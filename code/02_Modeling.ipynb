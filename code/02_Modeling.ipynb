{
 "cells": [
  {
   "cell_type": "markdown",
   "id": "07a6f90c-38cd-4d4d-b3b0-28b54e57fe73",
   "metadata": {},
   "source": [
    "### Imports"
   ]
  },
  {
   "cell_type": "code",
   "execution_count": 1,
   "id": "42eb70bf-7bfc-4eb6-b723-f27a02c2f335",
   "metadata": {},
   "outputs": [],
   "source": [
    "import matplotlib.pyplot as plt\n",
    "import numpy as np\n",
    "\n",
    "import os\n",
    "import pandas as pd\n",
    "\n",
    "from mpl_toolkits.axes_grid1 import ImageGrid\n",
    "from sklearn.model_selection import train_test_split\n",
    "from sklearn.metrics import ConfusionMatrixDisplay, f1_score, precision_score, accuracy_score, recall_score, roc_curve, auc\n",
    "from tensorflow.keras.preprocessing.image import img_to_array, load_img\n",
    "from tensorflow.keras.layers import Dense, Dropout, Flatten, Conv2D, MaxPooling2D, AveragePooling2D\n",
    "from tensorflow.keras.models import Sequential, load_model\n",
    "from tensorflow.math import confusion_matrix\n",
    "from myscripts import array_dict, get_metrics_df, find_combined_img\n",
    "import SimpleITK as sitk\n",
    "\n",
    "np.random.seed(24)"
   ]
  },
  {
   "cell_type": "markdown",
   "id": "d3163725-4106-4f26-af59-139051c35b41",
   "metadata": {
    "jp-MarkdownHeadingCollapsed": true,
    "tags": []
   },
   "source": [
    "## Used Models"
   ]
  },
  {
   "cell_type": "markdown",
   "id": "07915b2c-0361-4761-a7e5-f0dc3c8d58ac",
   "metadata": {},
   "source": [
    "---"
   ]
  },
  {
   "cell_type": "markdown",
   "id": "9e8b3b47-66af-47be-8fe7-a4f2bc1b3dd5",
   "metadata": {},
   "source": [
    "### T2 CNN Model"
   ]
  },
  {
   "cell_type": "markdown",
   "id": "cff07af8-7955-4dc3-a3cb-d770880fe193",
   "metadata": {
    "jp-MarkdownHeadingCollapsed": true,
    "tags": []
   },
   "source": [
    "#### Setup"
   ]
  },
  {
   "cell_type": "code",
   "execution_count": 3,
   "id": "015bcc81-7f6e-4759-92dd-31a02497f95a",
   "metadata": {},
   "outputs": [],
   "source": [
    "# setting initial control scan path\n",
    "control_dir = '../brain_images/no_known_disorder/cobre_07325/'\n",
    "\n",
    "# setting total control patients\n",
    "patients_c = [each for each in os.listdir(control_dir)]"
   ]
  },
  {
   "cell_type": "code",
   "execution_count": 9,
   "id": "af5d2ef0-3e32-4754-9d4b-e3063a0c1d05",
   "metadata": {
    "tags": []
   },
   "outputs": [
    {
     "name": "stdout",
     "output_type": "stream",
     "text": [
      "9480 pictures converted.\n"
     ]
    }
   ],
   "source": [
    "# list of dicitionarys for control image arrays\n",
    "control_arrays_dict = []\n",
    "for patient in patients_c:\n",
    "    for session in os.listdir(control_dir+patient):\n",
    "        for scan in os.listdir(control_dir+patient+'/'+session): \n",
    "            if \"t2_tse_tra_192_0\" in scan:\n",
    "                image_c_dir = control_dir+patient+'/'+session+'/'+scan+'/'\n",
    "                for each in os.listdir(image_c_dir):\n",
    "                    if 'dcm' in each:\n",
    "                        try:\n",
    "                            image = sitk.ReadImage(image_c_dir+each)\n",
    "                            image_arr = sitk.GetArrayFromImage(image)/255\n",
    "                            control_arrays_dict.append({'path': str(image_c_dir+each), 'scan': image_arr})\n",
    "                        except:\n",
    "                            print(f'Error for file: {each}')\n",
    "print(f'{len(control_arrays_dict)} pictures converted.')    "
   ]
  },
  {
   "cell_type": "code",
   "execution_count": 11,
   "id": "f37dc39b-f101-4a68-8568-b66742903087",
   "metadata": {},
   "outputs": [],
   "source": [
    "# setting initial schizophrenic image path\n",
    "schiz_dir = '../brain_images/schizophrenic/cobre_07325/'\n",
    "\n",
    "# setting total schizophrenic patients\n",
    "patients_s = [each for each in os.listdir(schiz_dir)]"
   ]
  },
  {
   "cell_type": "code",
   "execution_count": 12,
   "id": "e0762995-75f0-4c4a-8336-faef565f7d07",
   "metadata": {},
   "outputs": [
    {
     "name": "stdout",
     "output_type": "stream",
     "text": [
      "8040 pictures converted.\n"
     ]
    }
   ],
   "source": [
    "# list of dictionaries for all schizophrenic image arrays\n",
    "schiz_arrays_dict = []\n",
    "for patient in patients_s:\n",
    "    for session in os.listdir(schiz_dir+patient):\n",
    "        for scan in os.listdir(schiz_dir+patient+'/'+session): \n",
    "            if \"t2_tse_tra_192_0\" in scan:\n",
    "                image_s_dir = schiz_dir+patient+'/'+session+'/'+scan+'/'\n",
    "                for each in os.listdir(image_s_dir):\n",
    "                    try:  \n",
    "                        image = sitk.ReadImage(image_s_dir+each)\n",
    "                        image_arr = sitk.GetArrayFromImage(image)/255\n",
    "                        schiz_arrays_dict.append({'path': str(image_s_dir+each), 'scan': image_arr})\n",
    "                    except:\n",
    "                        print(f'Error for file: {each}')\n",
    "print(f'{len(schiz_arrays_dict)} pictures converted.')  "
   ]
  },
  {
   "cell_type": "code",
   "execution_count": 13,
   "id": "42bc39af-1880-4f70-8559-6d7d9d0a846d",
   "metadata": {},
   "outputs": [
    {
     "name": "stdout",
     "output_type": "stream",
     "text": [
      "X shape: (17520, 1, 192, 192)\n",
      "y shape: (17520,)\n"
     ]
    }
   ],
   "source": [
    "# combining control and schizophrenic scans\n",
    "X = [each['scan'] for each in control_arrays_dict] + [each['scan'] for each in schiz_arrays_dict]\n",
    "\n",
    "# convert to array and checking for shape of arrays\n",
    "X_arr = np.array(X, dtype=object)\n",
    "print(f'X shape: {X_arr.shape}')\n",
    "\n",
    "# setting control scans to 0 and schizophrenic scans to 1\n",
    "y = [0] * len(control_arrays_dict) + [1] * len(schiz_arrays_dict)\n",
    "\n",
    "# convert to array and check shape\n",
    "y = np.array(y)\n",
    "print(f'y shape: {y.shape}')"
   ]
  },
  {
   "cell_type": "markdown",
   "id": "feb0793b-e4bc-4a34-8a4c-18128a970a0e",
   "metadata": {
    "jp-MarkdownHeadingCollapsed": true,
    "tags": []
   },
   "source": [
    "#### Train-test split"
   ]
  },
  {
   "cell_type": "code",
   "execution_count": 14,
   "id": "2be6bca1-3e66-4af4-b761-60911c3c57e5",
   "metadata": {},
   "outputs": [],
   "source": [
    "# train test split\n",
    "X_train, X_test, y_train, y_test = train_test_split(X, y, random_state=24, stratify=y)"
   ]
  },
  {
   "cell_type": "code",
   "execution_count": 15,
   "id": "b8d5d8e8-5d34-4421-ba6a-5c58f90bea4a",
   "metadata": {},
   "outputs": [],
   "source": [
    "# reshape to prep for cnn\n",
    "X_train = np.array(X_train).reshape(13140, 192, 192, 1)"
   ]
  },
  {
   "cell_type": "code",
   "execution_count": 16,
   "id": "1d2c4660-bdbb-4b02-9e83-940aadb81d9b",
   "metadata": {},
   "outputs": [
    {
     "data": {
      "text/plain": [
       "(13140, 192, 192, 1)"
      ]
     },
     "execution_count": 16,
     "metadata": {},
     "output_type": "execute_result"
    }
   ],
   "source": [
    "# checking shape\n",
    "X_train.shape"
   ]
  },
  {
   "cell_type": "code",
   "execution_count": 17,
   "id": "e96ea0f8-6a5f-4b9e-995e-c9ae700fed3a",
   "metadata": {},
   "outputs": [],
   "source": [
    "# reshape to prep for cnn\n",
    "X_test = np.array(X_test).reshape(4380, 192, 192, 1)"
   ]
  },
  {
   "cell_type": "code",
   "execution_count": 18,
   "id": "2249a59c-b16e-4d7f-9d68-bd7051c1e339",
   "metadata": {},
   "outputs": [
    {
     "data": {
      "text/plain": [
       "(4380, 192, 192, 1)"
      ]
     },
     "execution_count": 18,
     "metadata": {},
     "output_type": "execute_result"
    }
   ],
   "source": [
    "# checking shape\n",
    "X_test.shape"
   ]
  },
  {
   "cell_type": "markdown",
   "id": "7cfe8b7a-54c4-468a-a736-1e92654893f2",
   "metadata": {},
   "source": [
    "#### Baseline Model"
   ]
  },
  {
   "cell_type": "code",
   "execution_count": 13,
   "id": "e6c7d5a9-f2d0-4e15-9b25-322995aa4f04",
   "metadata": {},
   "outputs": [],
   "source": [
    "\n",
    "model = Sequential()\n",
    "\n",
    "# conv & pool\n",
    "model.add(Conv2D(filters=64, kernel_size=(3,3), activation='relu', input_shape=X_train[0].shape))\n",
    "model.add(MaxPooling2D(pool_size=(2,2)))\n",
    "\n",
    "# conv & pool\n",
    "model.add(Conv2D(filters=128, kernel_size=(3,3), activation='relu'))\n",
    "model.add(MaxPooling2D(pool_size=(2,2)))\n",
    "\n",
    "# flatten & finish\n",
    "model.add(Flatten())\n",
    "model.add(Dense(units=64, activation='relu'))\n",
    "model.add(Dense(units=1, activation='sigmoid')) # binary classification "
   ]
  },
  {
   "cell_type": "code",
   "execution_count": 14,
   "id": "2aa57874-7ea4-4d11-bea0-d28a59346678",
   "metadata": {},
   "outputs": [
    {
     "name": "stdout",
     "output_type": "stream",
     "text": [
      "Model: \"sequential\"\n",
      "_________________________________________________________________\n",
      " Layer (type)                Output Shape              Param #   \n",
      "=================================================================\n",
      " conv2d (Conv2D)             (None, 190, 190, 64)      640       \n",
      "                                                                 \n",
      " max_pooling2d (MaxPooling2D  (None, 95, 95, 64)       0         \n",
      " )                                                               \n",
      "                                                                 \n",
      " conv2d_1 (Conv2D)           (None, 93, 93, 128)       73856     \n",
      "                                                                 \n",
      " max_pooling2d_1 (MaxPooling  (None, 46, 46, 128)      0         \n",
      " 2D)                                                             \n",
      "                                                                 \n",
      " flatten (Flatten)           (None, 270848)            0         \n",
      "                                                                 \n",
      " dense (Dense)               (None, 64)                17334336  \n",
      "                                                                 \n",
      " dense_1 (Dense)             (None, 1)                 65        \n",
      "                                                                 \n",
      "=================================================================\n",
      "Total params: 17,408,897\n",
      "Trainable params: 17,408,897\n",
      "Non-trainable params: 0\n",
      "_________________________________________________________________\n"
     ]
    }
   ],
   "source": [
    "model.summary()"
   ]
  },
  {
   "cell_type": "code",
   "execution_count": 15,
   "id": "2f9b3384-c923-4ff5-a0a4-73259a2d0e33",
   "metadata": {},
   "outputs": [],
   "source": [
    "model.compile(optimizer='adam', loss='binary_crossentropy', metrics=['accuracy'])"
   ]
  },
  {
   "cell_type": "code",
   "execution_count": 16,
   "id": "7ebe6fce-f30c-4c9d-b659-ac601e79e4ab",
   "metadata": {},
   "outputs": [
    {
     "name": "stdout",
     "output_type": "stream",
     "text": [
      "Epoch 1/10\n",
      "411/411 [==============================] - 624s 2s/step - loss: 0.6084 - accuracy: 0.6910 - val_loss: 0.3712 - val_accuracy: 0.7975\n",
      "Epoch 2/10\n",
      "411/411 [==============================] - 604s 1s/step - loss: 0.2702 - accuracy: 0.8555 - val_loss: 0.2368 - val_accuracy: 0.8683\n",
      "Epoch 3/10\n",
      "411/411 [==============================] - 616s 1s/step - loss: 0.1699 - accuracy: 0.9033 - val_loss: 0.2165 - val_accuracy: 0.8811\n",
      "Epoch 4/10\n",
      "411/411 [==============================] - 596s 1s/step - loss: 0.1497 - accuracy: 0.9145 - val_loss: 0.2827 - val_accuracy: 0.8612\n",
      "Epoch 5/10\n",
      "411/411 [==============================] - 609s 1s/step - loss: 0.1312 - accuracy: 0.9259 - val_loss: 0.2346 - val_accuracy: 0.8822\n",
      "Epoch 6/10\n",
      "411/411 [==============================] - 618s 2s/step - loss: 0.1142 - accuracy: 0.9322 - val_loss: 0.2366 - val_accuracy: 0.8900\n",
      "Epoch 7/10\n",
      "411/411 [==============================] - 599s 1s/step - loss: 0.1111 - accuracy: 0.9366 - val_loss: 0.2640 - val_accuracy: 0.8783\n",
      "Epoch 8/10\n",
      "411/411 [==============================] - 595s 1s/step - loss: 0.1158 - accuracy: 0.9347 - val_loss: 0.2091 - val_accuracy: 0.8952\n",
      "Epoch 9/10\n",
      "411/411 [==============================] - 599s 1s/step - loss: 0.0919 - accuracy: 0.9457 - val_loss: 0.2920 - val_accuracy: 0.8829\n",
      "Epoch 10/10\n",
      "411/411 [==============================] - 594s 1s/step - loss: 0.0909 - accuracy: 0.9456 - val_loss: 0.2465 - val_accuracy: 0.8947\n"
     ]
    }
   ],
   "source": [
    "history = model.fit(X_train, y_train, validation_data=(X_test, y_test), batch_size=32, epochs=10)"
   ]
  },
  {
   "cell_type": "code",
   "execution_count": 17,
   "id": "8defccd4-e4cb-47e7-81b5-dcf802f658ac",
   "metadata": {},
   "outputs": [
    {
     "name": "stdout",
     "output_type": "stream",
     "text": [
      "137/137 [==============================] - 55s 402ms/step - loss: 0.2465 - accuracy: 0.8947\n"
     ]
    },
    {
     "data": {
      "text/plain": [
       "[0.24648414552211761, 0.894748866558075]"
      ]
     },
     "execution_count": 17,
     "metadata": {},
     "output_type": "execute_result"
    }
   ],
   "source": [
    "model.evaluate(X_test, y_test, batch_size=32, workers=-1)"
   ]
  },
  {
   "cell_type": "code",
   "execution_count": 19,
   "id": "a4a5164d-a206-49a6-bd1a-e2adfc0b5fbd",
   "metadata": {},
   "outputs": [],
   "source": [
    "# saving first model\n",
    "model.save('../models/model_first_t2.h5')"
   ]
  },
  {
   "cell_type": "markdown",
   "id": "8b5387b1-5239-4e56-8a51-57c6fc5fd6c5",
   "metadata": {},
   "source": [
    "---"
   ]
  },
  {
   "cell_type": "markdown",
   "id": "0bd3d7e6-8b14-4eec-a41f-8f77fddb9986",
   "metadata": {},
   "source": [
    "### Mprage CNN Model"
   ]
  },
  {
   "cell_type": "markdown",
   "id": "e56d27c0-de00-4851-9153-ee93c4ff2493",
   "metadata": {
    "jp-MarkdownHeadingCollapsed": true,
    "tags": []
   },
   "source": [
    "#### Setup"
   ]
  },
  {
   "cell_type": "code",
   "execution_count": null,
   "id": "16584f44-fcac-4c22-a7eb-b1fe2c9f3e84",
   "metadata": {},
   "outputs": [],
   "source": [
    "control_array_dict = array_dict('control', 'mprage', 'all', 'dcm')"
   ]
  },
  {
   "cell_type": "code",
   "execution_count": 4,
   "id": "f7a87045-43e1-42b7-9d79-e1450978ab6a",
   "metadata": {},
   "outputs": [
    {
     "name": "stdout",
     "output_type": "stream",
     "text": [
      "22656 pictures converted.\n"
     ]
    }
   ],
   "source": [
    "schiz_array_dict = array_dict('schiz', 'mprage', 'all', 'dcm')"
   ]
  },
  {
   "cell_type": "code",
   "execution_count": 4,
   "id": "c982a68b-1b23-492c-8503-cab83618c1fa",
   "metadata": {},
   "outputs": [
    {
     "name": "stdout",
     "output_type": "stream",
     "text": [
      "y shape: (45504,)\n"
     ]
    }
   ],
   "source": [
    "# setting up X and y\n",
    "# combining control and schizophrenic scans\n",
    "X = [each['scan'] for each in control_arrays_dict] + [each['scan'] for each in schiz_arrays_dict]\n",
    "\n",
    "# convert to array and checking for shape of arrays\n",
    "# X_arr = np.array(X, dtype=object)\n",
    "# print(f'X shape: {X_arr.shape}')\n",
    "\n",
    "# setting control scans to 0 and schizophrenic scans to 1\n",
    "y = [0] * len(control_arrays_dict) + [1] * len(schiz_arrays_dict)\n",
    "\n",
    "# convert to array and check shape\n",
    "y = np.array(y)\n",
    "print(f'y shape: {y.shape}')"
   ]
  },
  {
   "cell_type": "markdown",
   "id": "ac23915f-2334-43c7-a151-e6cbcfe941bb",
   "metadata": {
    "jp-MarkdownHeadingCollapsed": true,
    "tags": []
   },
   "source": [
    "#### Train test split"
   ]
  },
  {
   "cell_type": "code",
   "execution_count": 10,
   "id": "4e7d0a7a-c839-4267-8695-21f9b0ce2f25",
   "metadata": {},
   "outputs": [],
   "source": [
    "X_train, X_test, y_train, y_test = train_test_split(X, y, stratify=y, random_state=24)"
   ]
  },
  {
   "cell_type": "code",
   "execution_count": 11,
   "id": "35caad92-2ec6-4728-9343-b4d1b0851399",
   "metadata": {},
   "outputs": [],
   "source": [
    "X_train = np.array(X_train).reshape(len(X_train), 256, 256, 1)"
   ]
  },
  {
   "cell_type": "code",
   "execution_count": 12,
   "id": "7628711f-824b-4757-b273-e61fcdcbf009",
   "metadata": {},
   "outputs": [
    {
     "data": {
      "text/plain": [
       "(34128, 256, 256, 1)"
      ]
     },
     "execution_count": 12,
     "metadata": {},
     "output_type": "execute_result"
    }
   ],
   "source": [
    "X_train.shape"
   ]
  },
  {
   "cell_type": "code",
   "execution_count": 13,
   "id": "6e788838-3ba3-4f57-a69c-edb2878a1eaa",
   "metadata": {},
   "outputs": [],
   "source": [
    "X_test = np.array(X_test).reshape(len(X_test), 256, 256, 1)"
   ]
  },
  {
   "cell_type": "code",
   "execution_count": 14,
   "id": "a550a9de-b39a-4535-b008-84b48bbcad4f",
   "metadata": {},
   "outputs": [
    {
     "data": {
      "text/plain": [
       "(11376, 256, 256, 1)"
      ]
     },
     "execution_count": 14,
     "metadata": {},
     "output_type": "execute_result"
    }
   ],
   "source": [
    "X_test.shape"
   ]
  },
  {
   "cell_type": "markdown",
   "id": "c68dcb88-2419-4a62-93b5-0867dfb47ee0",
   "metadata": {},
   "source": [
    "##### Saving"
   ]
  },
  {
   "cell_type": "code",
   "execution_count": 18,
   "id": "9cf57600-d243-49c9-8170-6493e58523c4",
   "metadata": {},
   "outputs": [],
   "source": [
    "# saving X_train, y_train, X_test, y_test because computationally intensive\n",
    "np.save('X_train', X_train)\n",
    "\n",
    "np.save('X_test', X_test)\n",
    "\n",
    "np.save('y_train', y_train)\n",
    "\n",
    "np.save('y_test', y_test)"
   ]
  },
  {
   "cell_type": "markdown",
   "id": "faf18313-a95e-4b23-9199-d2dae9c46720",
   "metadata": {},
   "source": [
    "##### Loadings"
   ]
  },
  {
   "cell_type": "code",
   "execution_count": 5,
   "id": "55e6ce2d-09e5-4fdb-9918-bcb1a4fd34d8",
   "metadata": {},
   "outputs": [],
   "source": [
    "X_train = np.load('X_train.npy')"
   ]
  },
  {
   "cell_type": "code",
   "execution_count": 6,
   "id": "7387c95f-e946-490f-be80-9a199e8fe20d",
   "metadata": {},
   "outputs": [],
   "source": [
    "X_test = np.load('X_test.npy')"
   ]
  },
  {
   "cell_type": "code",
   "execution_count": 7,
   "id": "152971ae-ad3e-413b-9127-b51cc738a25d",
   "metadata": {},
   "outputs": [],
   "source": [
    "y_train = np.load('y_train.npy')"
   ]
  },
  {
   "cell_type": "code",
   "execution_count": 8,
   "id": "04571c5f-e31b-4cc7-bc97-1a11f8ce00b7",
   "metadata": {},
   "outputs": [],
   "source": [
    "y_test = np.load('y_test.npy')"
   ]
  },
  {
   "cell_type": "markdown",
   "id": "6248881d-e2e6-4ec5-8896-aa2ba5bde136",
   "metadata": {},
   "source": [
    "#### Modeling"
   ]
  },
  {
   "cell_type": "code",
   "execution_count": 7,
   "id": "7f7a73dc-0eeb-4a2e-853b-8a135fcf0ed6",
   "metadata": {},
   "outputs": [],
   "source": [
    "model = Sequential()\n",
    "\n",
    "# conv & pool\n",
    "model.add(Conv2D(filters=64, kernel_size=(3,3), activation='relu', input_shape=X_train[0].shape))\n",
    "model.add(MaxPooling2D(pool_size=(2,2)))\n",
    "\n",
    "# conv & pool\n",
    "model.add(Conv2D(filters=128, kernel_size=(3,3), activation='relu'))\n",
    "model.add(MaxPooling2D(pool_size=(2,2)))\n",
    "\n",
    "# flatten & finish\n",
    "model.add(Flatten())\n",
    "model.add(Dense(units=64, activation='relu'))\n",
    "model.add(Dense(units=1, activation='sigmoid')) # binary classification "
   ]
  },
  {
   "cell_type": "code",
   "execution_count": 8,
   "id": "8fbbaf71-f3bd-4b21-b4fa-3681f8836279",
   "metadata": {},
   "outputs": [
    {
     "name": "stdout",
     "output_type": "stream",
     "text": [
      "Model: \"sequential\"\n",
      "_________________________________________________________________\n",
      " Layer (type)                Output Shape              Param #   \n",
      "=================================================================\n",
      " conv2d (Conv2D)             (None, 254, 254, 64)      640       \n",
      "                                                                 \n",
      " max_pooling2d (MaxPooling2D  (None, 127, 127, 64)     0         \n",
      " )                                                               \n",
      "                                                                 \n",
      " conv2d_1 (Conv2D)           (None, 125, 125, 128)     73856     \n",
      "                                                                 \n",
      " max_pooling2d_1 (MaxPooling  (None, 62, 62, 128)      0         \n",
      " 2D)                                                             \n",
      "                                                                 \n",
      " flatten (Flatten)           (None, 492032)            0         \n",
      "                                                                 \n",
      " dense (Dense)               (None, 64)                31490112  \n",
      "                                                                 \n",
      " dense_1 (Dense)             (None, 1)                 65        \n",
      "                                                                 \n",
      "=================================================================\n",
      "Total params: 31,564,673\n",
      "Trainable params: 31,564,673\n",
      "Non-trainable params: 0\n",
      "_________________________________________________________________\n"
     ]
    }
   ],
   "source": [
    "model.summary()"
   ]
  },
  {
   "cell_type": "code",
   "execution_count": 9,
   "id": "17183466-9f96-4099-a4a8-aa973e22e45b",
   "metadata": {},
   "outputs": [],
   "source": [
    "model.compile(optimizer='adam', loss='binary_crossentropy', metrics=['accuracy'])"
   ]
  },
  {
   "cell_type": "code",
   "execution_count": 10,
   "id": "5b18faa4-d133-4ed4-906f-10f9b870b9e3",
   "metadata": {},
   "outputs": [
    {
     "name": "stdout",
     "output_type": "stream",
     "text": [
      "Epoch 1/10\n",
      "1067/1067 [==============================] - 2870s 3s/step - loss: 0.5026 - accuracy: 0.7146 - val_loss: 0.3141 - val_accuracy: 0.8345\n",
      "Epoch 2/10\n",
      "1067/1067 [==============================] - 2792s 3s/step - loss: 0.2283 - accuracy: 0.8858 - val_loss: 0.1936 - val_accuracy: 0.9039\n",
      "Epoch 3/10\n",
      "1067/1067 [==============================] - 2757s 3s/step - loss: 0.1319 - accuracy: 0.9363 - val_loss: 0.1974 - val_accuracy: 0.9147\n",
      "Epoch 4/10\n",
      "1067/1067 [==============================] - 2742s 3s/step - loss: 0.1014 - accuracy: 0.9533 - val_loss: 0.1397 - val_accuracy: 0.9370\n",
      "Epoch 5/10\n",
      "1067/1067 [==============================] - 2736s 3s/step - loss: 0.0706 - accuracy: 0.9658 - val_loss: 0.1315 - val_accuracy: 0.9424\n",
      "Epoch 6/10\n",
      "1067/1067 [==============================] - 2721s 3s/step - loss: 0.0735 - accuracy: 0.9675 - val_loss: 0.1412 - val_accuracy: 0.9398\n",
      "Epoch 7/10\n",
      "1067/1067 [==============================] - 2748s 3s/step - loss: 0.0558 - accuracy: 0.9755 - val_loss: 0.1495 - val_accuracy: 0.9423\n",
      "Epoch 8/10\n",
      "1067/1067 [==============================] - 2721s 3s/step - loss: 0.0468 - accuracy: 0.9806 - val_loss: 0.1771 - val_accuracy: 0.9421\n",
      "Epoch 9/10\n",
      "1067/1067 [==============================] - 2724s 3s/step - loss: 0.0398 - accuracy: 0.9837 - val_loss: 0.1719 - val_accuracy: 0.9466\n",
      "Epoch 10/10\n",
      "1067/1067 [==============================] - 2724s 3s/step - loss: 0.0348 - accuracy: 0.9886 - val_loss: 0.1724 - val_accuracy: 0.9466\n"
     ]
    }
   ],
   "source": [
    "history = model.fit(X_train, y_train, validation_data=(X_test, y_test), batch_size=32, epochs=10)"
   ]
  },
  {
   "cell_type": "code",
   "execution_count": 12,
   "id": "745236c8-74cd-4449-be76-f57c022ef6aa",
   "metadata": {},
   "outputs": [],
   "source": [
    "# saving full model\n",
    "model.save('../models/model_full_mprage.h5')"
   ]
  },
  {
   "cell_type": "markdown",
   "id": "b0940527-0219-4f69-9139-17f4bca9ac46",
   "metadata": {
    "tags": []
   },
   "source": [
    "## Unused Models"
   ]
  },
  {
   "cell_type": "markdown",
   "id": "3f72e77a-6448-4704-9bdb-f1a669d1bca3",
   "metadata": {},
   "source": [
    "---"
   ]
  },
  {
   "cell_type": "markdown",
   "id": "f4b1ec7e-9f0f-4a99-930c-15cb46fb1d40",
   "metadata": {
    "jp-MarkdownHeadingCollapsed": true,
    "tags": []
   },
   "source": [
    "### Unknown Model 1"
   ]
  },
  {
   "cell_type": "markdown",
   "id": "8ae6cd6a-4592-4da5-b52d-aff93a6b881b",
   "metadata": {},
   "source": [
    "**Note**: Testing just to see what happens"
   ]
  },
  {
   "cell_type": "markdown",
   "id": "38bb3cf6-c16f-4eea-b40d-b49649f088d7",
   "metadata": {
    "jp-MarkdownHeadingCollapsed": true,
    "tags": []
   },
   "source": [
    "#### Setup"
   ]
  },
  {
   "cell_type": "code",
   "execution_count": 2,
   "id": "b961ebae-5876-4db7-a6fd-3740bf2eead0",
   "metadata": {},
   "outputs": [],
   "source": [
    "# setting initial control scan path\n",
    "control_dir = '../brain_images/no_known_disorder/cobre_07325/'\n",
    "\n",
    "# setting total control patients\n",
    "patients_c = [each for each in os.listdir(control_dir)]"
   ]
  },
  {
   "cell_type": "code",
   "execution_count": 3,
   "id": "55bcca5c-98d8-40e4-9433-2ad04e7bc469",
   "metadata": {
    "tags": []
   },
   "outputs": [
    {
     "name": "stdout",
     "output_type": "stream",
     "text": [
      "79 pictures converted.\n"
     ]
    }
   ],
   "source": [
    "# list of dicitionarys for control image arrays\n",
    "control_arrays_dict = []\n",
    "for patient in patients_c:\n",
    "    for session in os.listdir(control_dir+patient):\n",
    "        for scan in os.listdir(control_dir+patient+'/'+session): \n",
    "            if \"t2_tse_tra_192_0\" in scan:\n",
    "                image_c_dir = control_dir+patient+'/'+session+'/'+scan+'/'\n",
    "                for each in os.listdir(image_c_dir):\n",
    "                    if \"nii\" in each:\n",
    "                        try:\n",
    "                            image = sitk.ReadImage(image_c_dir+each)\n",
    "                            image_array = sitk.GetArrayFromImage(image)\n",
    "                            image_flip = np.flip(image)\n",
    "                            control_arrays_dict.append({'path': str(image_c_dir+each), 'scan': image_flip})\n",
    "                        except:\n",
    "                            print(f'Error for file: {each}')\n",
    "print(f'{len(control_arrays_dict)} pictures converted.') "
   ]
  },
  {
   "cell_type": "code",
   "execution_count": 4,
   "id": "9e6b5819-e646-424f-9985-28cd26e9e3f0",
   "metadata": {},
   "outputs": [],
   "source": [
    "# setting initial schizophrenic image path\n",
    "schiz_dir = '../brain_images/schizophrenic/cobre_07325/'\n",
    "\n",
    "# setting total schizophrenic patients\n",
    "patients_s = [each for each in os.listdir(schiz_dir)]"
   ]
  },
  {
   "cell_type": "code",
   "execution_count": 5,
   "id": "2c8dec3e-5ef4-422c-9ec0-fbd5dd96dca8",
   "metadata": {},
   "outputs": [
    {
     "name": "stdout",
     "output_type": "stream",
     "text": [
      "67 pictures converted.\n"
     ]
    }
   ],
   "source": [
    "# list of dicitionarys for control image arrays\n",
    "schiz_arrays_dict = []\n",
    "for patient in patients_s:\n",
    "    for session in os.listdir(schiz_dir+patient):\n",
    "        for scan in os.listdir(schiz_dir+patient+'/'+session): \n",
    "            if \"t2_tse_tra_192_0\" in scan:\n",
    "                image_s_dir = schiz_dir+patient+'/'+session+'/'+scan+'/'\n",
    "                for each in os.listdir(image_s_dir):\n",
    "                    if \"nii\" in each:\n",
    "                        try:\n",
    "                            image = sitk.ReadImage(image_s_dir+each)\n",
    "                            image_array = sitk.GetArrayFromImage(image)\n",
    "                            image_flip = np.flip(image)\n",
    "                            schiz_arrays_dict.append({'path': str(image_s_dir+each), 'scan': image_flip})\n",
    "                        except:\n",
    "                            print(f'Error for file: {each}')\n",
    "print(f'{len(schiz_arrays_dict)} pictures converted.') "
   ]
  },
  {
   "cell_type": "code",
   "execution_count": 6,
   "id": "eac18be8-f871-4a15-a9f3-9e95405fce82",
   "metadata": {},
   "outputs": [
    {
     "name": "stdout",
     "output_type": "stream",
     "text": [
      "X shape: (146, 4423680)\n",
      "y shape: (146,)\n"
     ]
    }
   ],
   "source": [
    "# combining control and schizophrenic scans\n",
    "X = [each['scan'] for each in control_arrays_dict] + [each['scan'] for each in schiz_arrays_dict]\n",
    "\n",
    "# convert to array and checking for shape of arrays\n",
    "X_arr = np.array(X, dtype=object)\n",
    "print(f'X shape: {X_arr.shape}')\n",
    "\n",
    "# setting control scans to 0 and schizophrenic scans to 1\n",
    "y = [0] * len(control_arrays_dict) + [1] * len(schiz_arrays_dict)\n",
    "\n",
    "# convert to array and check shape\n",
    "y = np.array(y)\n",
    "print(f'y shape: {y.shape}')"
   ]
  },
  {
   "cell_type": "markdown",
   "id": "7241d72c-6bb8-445b-bd62-e45025bd3bf2",
   "metadata": {
    "jp-MarkdownHeadingCollapsed": true,
    "tags": []
   },
   "source": [
    "#### Train test split"
   ]
  },
  {
   "cell_type": "code",
   "execution_count": 7,
   "id": "4b592eb8-dc78-4a57-bdb6-d710c6cfa0f9",
   "metadata": {},
   "outputs": [],
   "source": [
    "# train test split\n",
    "X_train, X_test, y_train, y_test = train_test_split(X, y, random_state=24, stratify=y)"
   ]
  },
  {
   "cell_type": "code",
   "execution_count": 8,
   "id": "7ed39274-3b2c-46b3-b50a-508182072284",
   "metadata": {},
   "outputs": [],
   "source": [
    "# reshape to prep for cnn\n",
    "X_train = np.array(X_train).reshape(109, 192, 192, 120)"
   ]
  },
  {
   "cell_type": "code",
   "execution_count": 9,
   "id": "159698f5-b6cf-4815-ab36-9291a3a602d3",
   "metadata": {},
   "outputs": [
    {
     "data": {
      "text/plain": [
       "(109, 192, 192, 120)"
      ]
     },
     "execution_count": 9,
     "metadata": {},
     "output_type": "execute_result"
    }
   ],
   "source": [
    "# checking shape\n",
    "X_train.shape"
   ]
  },
  {
   "cell_type": "code",
   "execution_count": 10,
   "id": "b76e49a4-dc3b-43f2-9877-28abb8fdff0f",
   "metadata": {},
   "outputs": [],
   "source": [
    "# reshape to prep for cnn\n",
    "X_test = np.array(X_test).reshape(37, 192, 192, 120)"
   ]
  },
  {
   "cell_type": "code",
   "execution_count": 11,
   "id": "19033ce4-d088-4691-b9a8-3d793f8a7b70",
   "metadata": {},
   "outputs": [
    {
     "data": {
      "text/plain": [
       "(37, 192, 192, 120)"
      ]
     },
     "execution_count": 11,
     "metadata": {},
     "output_type": "execute_result"
    }
   ],
   "source": [
    "# checking shape\n",
    "X_test.shape"
   ]
  },
  {
   "cell_type": "markdown",
   "id": "e72c4a13-7ad0-42ef-9c26-965d95e36aa9",
   "metadata": {},
   "source": [
    "#### Modeling"
   ]
  },
  {
   "cell_type": "code",
   "execution_count": 16,
   "id": "ce5807ae-c4db-4077-9bd8-438735736cbd",
   "metadata": {},
   "outputs": [],
   "source": [
    "model = Sequential()\n",
    "\n",
    "# conv & pool\n",
    "model.add(Conv2D(filters=64, kernel_size=(3,3), activation='relu', input_shape=X_train[0].shape))\n",
    "model.add(AveragePooling2D(pool_size=(2,2)))\n",
    "\n",
    "# conv & pool\n",
    "model.add(Conv2D(filters=128, kernel_size=(3,3), activation='relu'))\n",
    "model.add(AveragePooling2D(pool_size=(2,2)))\n",
    "\n",
    "# flatten & finish\n",
    "model.add(Flatten())\n",
    "model.add(Dense(units=64, activation='relu'))\n",
    "model.add(Dense(units=1, activation='sigmoid')) # binary classification "
   ]
  },
  {
   "cell_type": "code",
   "execution_count": 17,
   "id": "31be5a6c-57df-4de5-9f95-529e4670bf09",
   "metadata": {},
   "outputs": [
    {
     "name": "stdout",
     "output_type": "stream",
     "text": [
      "Model: \"sequential_1\"\n",
      "_________________________________________________________________\n",
      " Layer (type)                Output Shape              Param #   \n",
      "=================================================================\n",
      " conv2d_2 (Conv2D)           (None, 190, 190, 64)      69184     \n",
      "                                                                 \n",
      " average_pooling2d (AverageP  (None, 95, 95, 64)       0         \n",
      " ooling2D)                                                       \n",
      "                                                                 \n",
      " conv2d_3 (Conv2D)           (None, 93, 93, 128)       73856     \n",
      "                                                                 \n",
      " average_pooling2d_1 (Averag  (None, 46, 46, 128)      0         \n",
      " ePooling2D)                                                     \n",
      "                                                                 \n",
      " flatten_1 (Flatten)         (None, 270848)            0         \n",
      "                                                                 \n",
      " dense_2 (Dense)             (None, 64)                17334336  \n",
      "                                                                 \n",
      " dense_3 (Dense)             (None, 1)                 65        \n",
      "                                                                 \n",
      "=================================================================\n",
      "Total params: 17,477,441\n",
      "Trainable params: 17,477,441\n",
      "Non-trainable params: 0\n",
      "_________________________________________________________________\n"
     ]
    }
   ],
   "source": [
    "model.summary()"
   ]
  },
  {
   "cell_type": "code",
   "execution_count": 18,
   "id": "02f2ee5b-8a85-4c8a-ab69-fdf09e638c3e",
   "metadata": {},
   "outputs": [],
   "source": [
    "model.compile(optimizer='adam', loss='binary_crossentropy', metrics=['accuracy'])"
   ]
  },
  {
   "cell_type": "code",
   "execution_count": 19,
   "id": "dec43f10-529c-421a-97ed-53ea8a5985ef",
   "metadata": {},
   "outputs": [
    {
     "name": "stdout",
     "output_type": "stream",
     "text": [
      "Epoch 1/10\n",
      "4/4 [==============================] - 14s 3s/step - loss: 14384.4561 - accuracy: 0.4862 - val_loss: 818.6246 - val_accuracy: 0.5405\n",
      "Epoch 2/10\n",
      "4/4 [==============================] - 13s 3s/step - loss: 677.7670 - accuracy: 0.4862 - val_loss: 194.7544 - val_accuracy: 0.4865\n",
      "Epoch 3/10\n",
      "4/4 [==============================] - 13s 3s/step - loss: 240.7955 - accuracy: 0.4312 - val_loss: 13.3596 - val_accuracy: 0.5946\n",
      "Epoch 4/10\n",
      "4/4 [==============================] - 15s 4s/step - loss: 87.1284 - accuracy: 0.5321 - val_loss: 11.3811 - val_accuracy: 0.5405\n",
      "Epoch 5/10\n",
      "4/4 [==============================] - 18s 4s/step - loss: 14.8301 - accuracy: 0.5413 - val_loss: 12.5962 - val_accuracy: 0.4595\n",
      "Epoch 6/10\n",
      "4/4 [==============================] - 18s 4s/step - loss: 12.0230 - accuracy: 0.5138 - val_loss: 12.0389 - val_accuracy: 0.5405\n",
      "Epoch 7/10\n",
      "4/4 [==============================] - 17s 4s/step - loss: 3.9540 - accuracy: 0.6055 - val_loss: 4.6829 - val_accuracy: 0.5405\n",
      "Epoch 8/10\n",
      "4/4 [==============================] - 17s 4s/step - loss: 1.4607 - accuracy: 0.7064 - val_loss: 2.5201 - val_accuracy: 0.5135\n",
      "Epoch 9/10\n",
      "4/4 [==============================] - 17s 4s/step - loss: 0.9796 - accuracy: 0.7798 - val_loss: 3.6397 - val_accuracy: 0.4324\n",
      "Epoch 10/10\n",
      "4/4 [==============================] - 17s 4s/step - loss: 0.6886 - accuracy: 0.8165 - val_loss: 3.2897 - val_accuracy: 0.5135\n"
     ]
    }
   ],
   "source": [
    "history = model.fit(X_train, y_train, validation_data=(X_test, y_test), batch_size=32, epochs=10)"
   ]
  },
  {
   "cell_type": "markdown",
   "id": "870e7cdd-e28f-43cb-bf15-2ff050b4b6be",
   "metadata": {},
   "source": [
    "---"
   ]
  },
  {
   "cell_type": "markdown",
   "id": "2711b5f0-c96c-4b60-86a0-33f37b79b743",
   "metadata": {
    "jp-MarkdownHeadingCollapsed": true,
    "tags": []
   },
   "source": [
    "### Gate Model"
   ]
  },
  {
   "cell_type": "code",
   "execution_count": 2,
   "id": "8885f12e-088e-44d5-95a5-a656bf427d92",
   "metadata": {},
   "outputs": [],
   "source": [
    "# setting initial control scan path\n",
    "control_dir = '../brain_images/no_known_disorder/cobre_07325/'\n",
    "\n",
    "# setting total control patients\n",
    "patients_c = [each for each in os.listdir(control_dir)]"
   ]
  },
  {
   "cell_type": "code",
   "execution_count": 3,
   "id": "b6f4f38e-49ea-4fb3-a2e2-e299452699db",
   "metadata": {},
   "outputs": [
    {
     "name": "stdout",
     "output_type": "stream",
     "text": [
      "2016 pictures converted.\n"
     ]
    }
   ],
   "source": [
    "# list of dicitionarys for control image arrays\n",
    "control_arrays_dict = []\n",
    "for patient in patients_c:\n",
    "    for session in os.listdir(control_dir+patient):\n",
    "        for scan in os.listdir(control_dir+patient+'/'+session): \n",
    "            if \"GATE_V01_R\" in scan:\n",
    "                image_c_dir = control_dir+patient+'/'+session+'/'+scan+'/'\n",
    "                for each in os.listdir(image_c_dir):\n",
    "                    try:\n",
    "                        image = sitk.ReadImage(image_c_dir+each)\n",
    "                        image_arr = sitk.GetArrayFromImage(image)/255\n",
    "                        control_arrays_dict.append({'path': str(image_c_dir+each), 'scan': image_arr})\n",
    "                    except:\n",
    "                        print(f'Error for file: {each}')\n",
    "print(f'{len(control_arrays_dict)} pictures converted.')    "
   ]
  },
  {
   "cell_type": "code",
   "execution_count": 4,
   "id": "713de6d1-c35c-4560-a38c-6b412e33db4b",
   "metadata": {},
   "outputs": [],
   "source": [
    "# setting initial schizophrenic image path\n",
    "schiz_dir = '../brain_images/schizophrenic/cobre_07325/'\n",
    "\n",
    "# setting total schizophrenic patients\n",
    "patients_s = [each for each in os.listdir(schiz_dir)][:7]"
   ]
  },
  {
   "cell_type": "code",
   "execution_count": 5,
   "id": "2ff80b16-235a-451a-9540-977e160bd624",
   "metadata": {},
   "outputs": [
    {
     "name": "stdout",
     "output_type": "stream",
     "text": [
      "2352 pictures converted.\n"
     ]
    }
   ],
   "source": [
    "# list of dictionaries for all schizophrenic image arrays\n",
    "schiz_arrays_dict = []\n",
    "for patient in patients_s:\n",
    "    for session in os.listdir(schiz_dir+patient):\n",
    "        for scan in os.listdir(schiz_dir+patient+'/'+session): \n",
    "            if \"GATE_V01_R\" in scan:\n",
    "                image_s_dir = schiz_dir+patient+'/'+session+'/'+scan+'/'\n",
    "                for each in os.listdir(image_s_dir):\n",
    "                    try:  \n",
    "                        image = sitk.ReadImage(image_s_dir+each)\n",
    "                        image_arr = sitk.GetArrayFromImage(image)/255\n",
    "                        schiz_arrays_dict.append({'path': str(image_s_dir+each), 'scan': image_arr})\n",
    "                    except:\n",
    "                        print(f'Error for file: {each}')\n",
    "print(f'{len(schiz_arrays_dict)} pictures converted.')  "
   ]
  },
  {
   "cell_type": "code",
   "execution_count": 6,
   "id": "e1bd77f5-4a26-4c2b-8577-a22e423c7f81",
   "metadata": {},
   "outputs": [
    {
     "name": "stdout",
     "output_type": "stream",
     "text": [
      "X shape: (4368, 1, 384, 384)\n",
      "y shape: (4368,)\n"
     ]
    }
   ],
   "source": [
    "# combining control and schizophrenic scans\n",
    "X = [each['scan'] for each in control_arrays_dict] + [each['scan'] for each in schiz_arrays_dict]\n",
    "\n",
    "# convert to array and checking for shape of arrays\n",
    "X_arr = np.array(X, dtype=object)\n",
    "print(f'X shape: {X_arr.shape}')\n",
    "\n",
    "# setting control scans to 0 and schizophrenic scans to 1\n",
    "y = [0] * len(control_arrays_dict) + [1] * len(schiz_arrays_dict)\n",
    "\n",
    "# convert to array and check shape\n",
    "y = np.array(y)\n",
    "print(f'y shape: {y.shape}')"
   ]
  },
  {
   "cell_type": "markdown",
   "id": "f2164ff6-6390-4cc0-b909-e36d5ef4edaa",
   "metadata": {
    "tags": []
   },
   "source": [
    "#### Train-test split"
   ]
  },
  {
   "cell_type": "code",
   "execution_count": 7,
   "id": "d475c682-f533-4bd7-bc5b-0f528fa7008f",
   "metadata": {},
   "outputs": [],
   "source": [
    "# train test split\n",
    "X_train, X_test, y_train, y_test = train_test_split(X, y, random_state=24, stratify=y)"
   ]
  },
  {
   "cell_type": "code",
   "execution_count": 8,
   "id": "14adb401-ed5a-44ef-94cb-3861e228489b",
   "metadata": {},
   "outputs": [],
   "source": [
    "# reshape to prep for cnn\n",
    "X_train = np.array(X_train).reshape(3276, 384, 384, 1)"
   ]
  },
  {
   "cell_type": "code",
   "execution_count": 9,
   "id": "2d7535ce-7fed-4800-9d84-a25b3bec4767",
   "metadata": {},
   "outputs": [
    {
     "data": {
      "text/plain": [
       "(3276, 384, 384, 1)"
      ]
     },
     "execution_count": 9,
     "metadata": {},
     "output_type": "execute_result"
    }
   ],
   "source": [
    "# checking shape\n",
    "X_train.shape"
   ]
  },
  {
   "cell_type": "code",
   "execution_count": 10,
   "id": "9c779c83-8562-4224-86b1-0098fa47ce48",
   "metadata": {},
   "outputs": [],
   "source": [
    "# reshape to prep for cnn\n",
    "X_test = np.array(X_test).reshape(1092, 384, 384, 1)"
   ]
  },
  {
   "cell_type": "code",
   "execution_count": 11,
   "id": "22744113-0b99-44e3-89d2-fa4069f87521",
   "metadata": {},
   "outputs": [
    {
     "data": {
      "text/plain": [
       "(1092, 384, 384, 1)"
      ]
     },
     "execution_count": 11,
     "metadata": {},
     "output_type": "execute_result"
    }
   ],
   "source": [
    "# checking shape\n",
    "X_test.shape"
   ]
  },
  {
   "cell_type": "markdown",
   "id": "9cfa6c53-cfc0-4e60-bfd0-84b8fc5efe15",
   "metadata": {},
   "source": [
    "#### Baseline Model"
   ]
  },
  {
   "cell_type": "code",
   "execution_count": 12,
   "id": "877ff7db-acca-487d-b586-432bdfe7cd39",
   "metadata": {},
   "outputs": [],
   "source": [
    "model = Sequential()\n",
    "\n",
    "# conv & pool\n",
    "model.add(Conv2D(filters=64, kernel_size=(3,3), activation='relu', input_shape=X_train[0].shape))\n",
    "model.add(MaxPooling2D(pool_size=(2,2)))\n",
    "\n",
    "# conv & pool\n",
    "model.add(Conv2D(filters=128, kernel_size=(3,3), activation='relu'))\n",
    "model.add(MaxPooling2D(pool_size=(2,2)))\n",
    "\n",
    "# flatten & finish\n",
    "model.add(Flatten())\n",
    "model.add(Dense(units=64, activation='relu'))\n",
    "model.add(Dense(units=1, activation='sigmoid')) # binary classification "
   ]
  },
  {
   "cell_type": "code",
   "execution_count": 13,
   "id": "5d67277f-4881-4276-b457-84e4bf52aea5",
   "metadata": {},
   "outputs": [
    {
     "name": "stdout",
     "output_type": "stream",
     "text": [
      "Model: \"sequential\"\n",
      "_________________________________________________________________\n",
      " Layer (type)                Output Shape              Param #   \n",
      "=================================================================\n",
      " conv2d (Conv2D)             (None, 382, 382, 64)      640       \n",
      "                                                                 \n",
      " max_pooling2d (MaxPooling2D  (None, 191, 191, 64)     0         \n",
      " )                                                               \n",
      "                                                                 \n",
      " conv2d_1 (Conv2D)           (None, 189, 189, 128)     73856     \n",
      "                                                                 \n",
      " max_pooling2d_1 (MaxPooling  (None, 94, 94, 128)      0         \n",
      " 2D)                                                             \n",
      "                                                                 \n",
      " flatten (Flatten)           (None, 1131008)           0         \n",
      "                                                                 \n",
      " dense (Dense)               (None, 64)                72384576  \n",
      "                                                                 \n",
      " dense_1 (Dense)             (None, 1)                 65        \n",
      "                                                                 \n",
      "=================================================================\n",
      "Total params: 72,459,137\n",
      "Trainable params: 72,459,137\n",
      "Non-trainable params: 0\n",
      "_________________________________________________________________\n"
     ]
    }
   ],
   "source": [
    "model.summary()"
   ]
  },
  {
   "cell_type": "code",
   "execution_count": 14,
   "id": "02750cef-a4d6-440c-8f46-46330b49e312",
   "metadata": {},
   "outputs": [],
   "source": [
    "model.compile(optimizer='adam', loss='binary_crossentropy', metrics=['accuracy'])"
   ]
  },
  {
   "cell_type": "code",
   "execution_count": null,
   "id": "d2d7188e-9424-49bd-8987-cc225deddacb",
   "metadata": {},
   "outputs": [
    {
     "name": "stdout",
     "output_type": "stream",
     "text": [
      "Epoch 1/10\n",
      "103/103 [==============================] - 687s 6s/step - loss: 0.7001 - accuracy: 0.9484 - val_loss: 4.9919e-06 - val_accuracy: 1.0000\n",
      "Epoch 2/10\n",
      "103/103 [==============================] - 640s 6s/step - loss: 3.8963e-06 - accuracy: 1.0000 - val_loss: 3.3476e-06 - val_accuracy: 1.0000\n",
      "Epoch 3/10\n",
      "103/103 [==============================] - 757s 7s/step - loss: 2.7207e-06 - accuracy: 1.0000 - val_loss: 2.4626e-06 - val_accuracy: 1.0000\n",
      "Epoch 4/10\n",
      "103/103 [==============================] - 753s 7s/step - loss: 2.0261e-06 - accuracy: 1.0000 - val_loss: 1.8947e-06 - val_accuracy: 1.0000\n",
      "Epoch 5/10\n",
      "103/103 [==============================] - 751s 7s/step - loss: 1.5674e-06 - accuracy: 1.0000 - val_loss: 1.4974e-06 - val_accuracy: 1.0000\n",
      "Epoch 6/10\n",
      "103/103 [==============================] - 710s 7s/step - loss: 1.2488e-06 - accuracy: 1.0000 - val_loss: 1.2118e-06 - val_accuracy: 1.0000\n",
      "Epoch 7/10\n",
      "103/103 [==============================] - 668s 6s/step - loss: 1.0180e-06 - accuracy: 1.0000 - val_loss: 1.0030e-06 - val_accuracy: 1.0000\n",
      "Epoch 8/10\n",
      "103/103 [==============================] - 676s 7s/step - loss: 8.4678e-07 - accuracy: 1.0000 - val_loss: 8.3587e-07 - val_accuracy: 1.0000\n",
      "Epoch 9/10\n",
      "103/103 [==============================] - 683s 7s/step - loss: 7.1096e-07 - accuracy: 1.0000 - val_loss: 7.0903e-07 - val_accuracy: 1.0000\n",
      "Epoch 10/10\n",
      "103/103 [==============================] - ETA: 0s - loss: 6.0453e-07 - accuracy: 1.0000"
     ]
    }
   ],
   "source": [
    "history = model.fit(X_train, y_train, validation_data=(X_test, y_test), batch_size=32, epochs=10)"
   ]
  },
  {
   "cell_type": "markdown",
   "id": "313b538d-e277-4647-a971-972cea51d76d",
   "metadata": {},
   "source": [
    "---"
   ]
  },
  {
   "cell_type": "markdown",
   "id": "e2847371-c2e0-4b48-a392-ace9a80e408c",
   "metadata": {
    "jp-MarkdownHeadingCollapsed": true,
    "tags": []
   },
   "source": [
    "### Dti Model"
   ]
  },
  {
   "cell_type": "code",
   "execution_count": 2,
   "id": "efb4a59d-4938-4a97-9167-4f59804d4baf",
   "metadata": {},
   "outputs": [],
   "source": [
    "# setting initial control scan path\n",
    "control_dir = '../brain_images/no_known_disorder/cobre_07325/'\n",
    "\n",
    "# setting total control patients\n",
    "patients_c = [each for each in os.listdir(control_dir)][:10]"
   ]
  },
  {
   "cell_type": "code",
   "execution_count": 3,
   "id": "f95aeb4c-9a0c-41f3-8d60-d1dd93de875a",
   "metadata": {
    "tags": []
   },
   "outputs": [
    {
     "name": "stdout",
     "output_type": "stream",
     "text": [
      "700 pictures converted.\n"
     ]
    }
   ],
   "source": [
    "# list of dicitionarys for control image arrays\n",
    "control_arrays_dict = []\n",
    "for patient in patients_c:\n",
    "    for session in os.listdir(control_dir+patient):\n",
    "        for scan in os.listdir(control_dir+patient+'/'+session): \n",
    "            if \"dti\" in scan:\n",
    "                image_c_dir = control_dir+patient+'/'+session+'/'+scan+'/'\n",
    "                for each in os.listdir(image_c_dir):\n",
    "                    if 'nii' not in each:\n",
    "                        # print(each)\n",
    "                        try:\n",
    "                            image = sitk.ReadImage(image_c_dir+each)\n",
    "                            image_arr = sitk.GetArrayFromImage(image)/255\n",
    "                            control_arrays_dict.append({'path': str(image_c_dir+each), 'scan': image_arr})\n",
    "                        except:\n",
    "                            print(f'Error for file: {each}')\n",
    "print(f'{len(control_arrays_dict)} pictures converted.')    "
   ]
  },
  {
   "cell_type": "code",
   "execution_count": 5,
   "id": "410a792f-9cb6-415b-8061-03d860541167",
   "metadata": {},
   "outputs": [],
   "source": [
    "# setting initial schizophrenic image path\n",
    "schiz_dir = '../brain_images/schizophrenic/cobre_07325/'\n",
    "\n",
    "# setting total schizophrenic patients\n",
    "patients_s = [each for each in os.listdir(schiz_dir)][:10]"
   ]
  },
  {
   "cell_type": "code",
   "execution_count": 6,
   "id": "2fd8a1c3-a72b-4e13-bd21-c9f610786369",
   "metadata": {},
   "outputs": [
    {
     "name": "stdout",
     "output_type": "stream",
     "text": [
      "675 pictures converted.\n"
     ]
    }
   ],
   "source": [
    "# list of dictionaries for all schizophrenic image arrays\n",
    "schiz_arrays_dict = []\n",
    "for patient in patients_s:\n",
    "    for session in os.listdir(schiz_dir+patient):\n",
    "        for scan in os.listdir(schiz_dir+patient+'/'+session): \n",
    "            if \"dti\" in scan:\n",
    "                image_s_dir = schiz_dir+patient+'/'+session+'/'+scan+'/'\n",
    "                for each in os.listdir(image_s_dir):\n",
    "                    if 'nii' not in each:\n",
    "                        # print(each)\n",
    "                        try:  \n",
    "                            image = sitk.ReadImage(image_s_dir+each)\n",
    "                            image_arr = sitk.GetArrayFromImage(image)/255\n",
    "                            schiz_arrays_dict.append({'path': str(image_s_dir+each), 'scan': image_arr})\n",
    "                        except:\n",
    "                            print(f'Error for file: {each}')\n",
    "print(f'{len(schiz_arrays_dict)} pictures converted.')  "
   ]
  },
  {
   "cell_type": "code",
   "execution_count": 12,
   "id": "3dad11e9-4768-4434-99a3-71dfb29529fb",
   "metadata": {},
   "outputs": [
    {
     "ename": "MemoryError",
     "evalue": "Unable to allocate 19.8 GiB for an array with shape (2005, 1, 1152, 1152) and data type object",
     "output_type": "error",
     "traceback": [
      "\u001b[1;31m---------------------------------------------------------------------------\u001b[0m",
      "\u001b[1;31mMemoryError\u001b[0m                               Traceback (most recent call last)",
      "\u001b[1;32m~\\AppData\\Local\\Temp/ipykernel_14848/2307990422.py\u001b[0m in \u001b[0;36m<module>\u001b[1;34m\u001b[0m\n\u001b[0;32m      3\u001b[0m \u001b[1;33m\u001b[0m\u001b[0m\n\u001b[0;32m      4\u001b[0m \u001b[1;31m# convert to array and checking for shape of arrays\u001b[0m\u001b[1;33m\u001b[0m\u001b[1;33m\u001b[0m\u001b[0m\n\u001b[1;32m----> 5\u001b[1;33m \u001b[0mX_arr\u001b[0m \u001b[1;33m=\u001b[0m \u001b[0mnp\u001b[0m\u001b[1;33m.\u001b[0m\u001b[0marray\u001b[0m\u001b[1;33m(\u001b[0m\u001b[0mX\u001b[0m\u001b[1;33m,\u001b[0m \u001b[0mdtype\u001b[0m\u001b[1;33m=\u001b[0m\u001b[0mobject\u001b[0m\u001b[1;33m)\u001b[0m\u001b[1;33m\u001b[0m\u001b[1;33m\u001b[0m\u001b[0m\n\u001b[0m\u001b[0;32m      6\u001b[0m \u001b[0mprint\u001b[0m\u001b[1;33m(\u001b[0m\u001b[1;34mf'X shape: {X_arr.shape}'\u001b[0m\u001b[1;33m)\u001b[0m\u001b[1;33m\u001b[0m\u001b[1;33m\u001b[0m\u001b[0m\n\u001b[0;32m      7\u001b[0m \u001b[1;33m\u001b[0m\u001b[0m\n",
      "\u001b[1;31mMemoryError\u001b[0m: Unable to allocate 19.8 GiB for an array with shape (2005, 1, 1152, 1152) and data type object"
     ]
    }
   ],
   "source": [
    "# combining control and schizophrenic scans\n",
    "X = [each['scan'] for each in control_arrays_dict] + [each['scan'] for each in schiz_arrays_dict]\n",
    "\n",
    "# convert to array and checking for shape of arrays\n",
    "X_arr = np.array(X, dtype=object)\n",
    "print(f'X shape: {X_arr.shape}')\n",
    "\n",
    "# setting control scans to 0 and schizophrenic scans to 1\n",
    "y = [0] * len(control_arrays_dict) + [1] * len(schiz_arrays_dict)\n",
    "\n",
    "# convert to array and check shape\n",
    "y = np.array(y)\n",
    "print(f'y shape: {y.shape}')"
   ]
  },
  {
   "cell_type": "markdown",
   "id": "bc641082-0f33-4f7d-b74c-5839dc092c79",
   "metadata": {},
   "source": [
    "* Images were the largest at 1152 x 1152\n",
    "* Scan abandoned for now"
   ]
  },
  {
   "cell_type": "markdown",
   "id": "936d0760-846d-49f8-9565-41888894f912",
   "metadata": {},
   "source": [
    "---"
   ]
  },
  {
   "cell_type": "markdown",
   "id": "e015c5c6-96ce-47e6-8e14-1dee11606454",
   "metadata": {
    "jp-MarkdownHeadingCollapsed": true,
    "tags": []
   },
   "source": [
    "### RST Model"
   ]
  },
  {
   "cell_type": "code",
   "execution_count": 2,
   "id": "411a7b96-628e-4d3a-8c3b-a6265bb1491f",
   "metadata": {},
   "outputs": [],
   "source": [
    "# setting initial control scan path\n",
    "control_dir = '../brain_images/no_known_disorder/cobre_07325/'\n",
    "\n",
    "# setting total control patients\n",
    "patients_c = [each for each in os.listdir(control_dir)][:12]"
   ]
  },
  {
   "cell_type": "code",
   "execution_count": 3,
   "id": "23029cae-0b8a-4dad-b525-5d7b3b51e601",
   "metadata": {},
   "outputs": [
    {
     "name": "stdout",
     "output_type": "stream",
     "text": [
      "1650 pictures converted.\n"
     ]
    }
   ],
   "source": [
    "# list of dicitionarys for control image arrays\n",
    "control_arrays_dict = []\n",
    "for patient in patients_c:\n",
    "    for session in os.listdir(control_dir+patient):\n",
    "        for scan in os.listdir(control_dir+patient+'/'+session): \n",
    "            if \"RST\" in scan:\n",
    "                image_c_dir = control_dir+patient+'/'+session+'/'+scan+'/'\n",
    "                for each in os.listdir(image_c_dir):\n",
    "                    if 'nii' not in each:\n",
    "                        # print(each)\n",
    "                        try:\n",
    "                            image = sitk.ReadImage(image_c_dir+each)\n",
    "                            image_arr = sitk.GetArrayFromImage(image)/255\n",
    "                            control_arrays_dict.append({'path': str(image_c_dir+each), 'scan': image_arr})\n",
    "                        except:\n",
    "                            print(f'Error for file: {each}')\n",
    "print(f'{len(control_arrays_dict)} pictures converted.')    "
   ]
  },
  {
   "cell_type": "code",
   "execution_count": 4,
   "id": "40455670-38c9-433f-9282-0554e0e16add",
   "metadata": {},
   "outputs": [],
   "source": [
    "# setting initial schizophrenic image path\n",
    "schiz_dir = '../brain_images/schizophrenic/cobre_07325/'\n",
    "\n",
    "# setting total schizophrenic patients\n",
    "patients_s = [each for each in os.listdir(schiz_dir)][:10]"
   ]
  },
  {
   "cell_type": "code",
   "execution_count": 5,
   "id": "36929349-f4e2-4ab5-a9d2-d87b5c5f9f1c",
   "metadata": {},
   "outputs": [
    {
     "name": "stdout",
     "output_type": "stream",
     "text": [
      "1650 pictures converted.\n"
     ]
    }
   ],
   "source": [
    "# list of dictionaries for all schizophrenic image arrays\n",
    "schiz_arrays_dict = []\n",
    "for patient in patients_s:\n",
    "    for session in os.listdir(schiz_dir+patient):\n",
    "        for scan in os.listdir(schiz_dir+patient+'/'+session): \n",
    "            if \"RST\" in scan:\n",
    "                image_s_dir = schiz_dir+patient+'/'+session+'/'+scan+'/'\n",
    "                for each in os.listdir(image_s_dir):\n",
    "                    if 'nii' not in each:\n",
    "                        # print(each)\n",
    "                        try:  \n",
    "                            image = sitk.ReadImage(image_s_dir+each)\n",
    "                            image_arr = sitk.GetArrayFromImage(image)/255\n",
    "                            schiz_arrays_dict.append({'path': str(image_s_dir+each), 'scan': image_arr})\n",
    "                        except:\n",
    "                            print(f'Error for file: {each}')\n",
    "print(f'{len(schiz_arrays_dict)} pictures converted.')  "
   ]
  },
  {
   "cell_type": "code",
   "execution_count": 6,
   "id": "d6021200-148b-448c-9b7b-518610b8a36d",
   "metadata": {},
   "outputs": [
    {
     "name": "stdout",
     "output_type": "stream",
     "text": [
      "X shape: (3300, 1, 384, 384)\n",
      "y shape: (3300,)\n"
     ]
    }
   ],
   "source": [
    "# combining control and schizophrenic scans\n",
    "X = [each['scan'] for each in control_arrays_dict] + [each['scan'] for each in schiz_arrays_dict]\n",
    "\n",
    "# convert to array and checking for shape of arrays\n",
    "X_arr = np.array(X, dtype=object)\n",
    "print(f'X shape: {X_arr.shape}')\n",
    "\n",
    "# setting control scans to 0 and schizophrenic scans to 1\n",
    "y = [0] * len(control_arrays_dict) + [1] * len(schiz_arrays_dict)\n",
    "\n",
    "# convert to array and check shape\n",
    "y = np.array(y)\n",
    "print(f'y shape: {y.shape}')"
   ]
  },
  {
   "cell_type": "markdown",
   "id": "176f1418-c290-47a5-9c73-c3f04732ee58",
   "metadata": {},
   "source": [
    "#### Train-test split"
   ]
  },
  {
   "cell_type": "code",
   "execution_count": 7,
   "id": "251e7001-ebf9-46d7-8c50-bb5b81fc46a1",
   "metadata": {},
   "outputs": [],
   "source": [
    "# train test split\n",
    "X_train, X_test, y_train, y_test = train_test_split(X, y, random_state=24, stratify=y)"
   ]
  },
  {
   "cell_type": "code",
   "execution_count": 8,
   "id": "caaba54e-b714-454c-acb4-115e54b65027",
   "metadata": {},
   "outputs": [],
   "source": [
    "# reshape to prep for cnn\n",
    "X_train = np.array(X_train).reshape(2475, 384, 384, 1)"
   ]
  },
  {
   "cell_type": "code",
   "execution_count": 9,
   "id": "9663f3d1-ebea-4414-9fc0-43d7010f8a0d",
   "metadata": {},
   "outputs": [
    {
     "data": {
      "text/plain": [
       "(2475, 384, 384, 1)"
      ]
     },
     "execution_count": 9,
     "metadata": {},
     "output_type": "execute_result"
    }
   ],
   "source": [
    "# checking shape\n",
    "X_train.shape"
   ]
  },
  {
   "cell_type": "code",
   "execution_count": 10,
   "id": "6c90a70a-eecd-463d-b666-be191458a53c",
   "metadata": {},
   "outputs": [],
   "source": [
    "# reshape to prep for cnn\n",
    "X_test = np.array(X_test).reshape(825, 384, 384, 1)"
   ]
  },
  {
   "cell_type": "code",
   "execution_count": 11,
   "id": "67830c1b-a3f3-434d-999e-26d3051f5155",
   "metadata": {},
   "outputs": [
    {
     "data": {
      "text/plain": [
       "(825, 384, 384, 1)"
      ]
     },
     "execution_count": 11,
     "metadata": {},
     "output_type": "execute_result"
    }
   ],
   "source": [
    "# checking shape\n",
    "X_test.shape"
   ]
  },
  {
   "cell_type": "markdown",
   "id": "9173d4f3-c490-486b-ae91-84cff6358116",
   "metadata": {},
   "source": [
    "#### Baseline Model"
   ]
  },
  {
   "cell_type": "code",
   "execution_count": 12,
   "id": "3ff4c113-3e05-401b-a274-9816c82038e4",
   "metadata": {},
   "outputs": [],
   "source": [
    "model = Sequential()\n",
    "\n",
    "# conv & pool\n",
    "model.add(Conv2D(filters=64, kernel_size=(3,3), activation='relu', input_shape=X_train[0].shape))\n",
    "model.add(MaxPooling2D(pool_size=(2,2)))\n",
    "\n",
    "# conv & pool\n",
    "model.add(Conv2D(filters=128, kernel_size=(3,3), activation='relu'))\n",
    "model.add(MaxPooling2D(pool_size=(2,2)))\n",
    "\n",
    "# flatten & finish\n",
    "model.add(Flatten())\n",
    "model.add(Dense(units=64, activation='relu'))\n",
    "model.add(Dense(units=1, activation='sigmoid')) # binary classification "
   ]
  },
  {
   "cell_type": "code",
   "execution_count": 13,
   "id": "b3bf9c71-0e7c-4640-a514-db186ef7d9ab",
   "metadata": {},
   "outputs": [
    {
     "name": "stdout",
     "output_type": "stream",
     "text": [
      "Model: \"sequential\"\n",
      "_________________________________________________________________\n",
      " Layer (type)                Output Shape              Param #   \n",
      "=================================================================\n",
      " conv2d (Conv2D)             (None, 382, 382, 64)      640       \n",
      "                                                                 \n",
      " max_pooling2d (MaxPooling2D  (None, 191, 191, 64)     0         \n",
      " )                                                               \n",
      "                                                                 \n",
      " conv2d_1 (Conv2D)           (None, 189, 189, 128)     73856     \n",
      "                                                                 \n",
      " max_pooling2d_1 (MaxPooling  (None, 94, 94, 128)      0         \n",
      " 2D)                                                             \n",
      "                                                                 \n",
      " flatten (Flatten)           (None, 1131008)           0         \n",
      "                                                                 \n",
      " dense (Dense)               (None, 64)                72384576  \n",
      "                                                                 \n",
      " dense_1 (Dense)             (None, 1)                 65        \n",
      "                                                                 \n",
      "=================================================================\n",
      "Total params: 72,459,137\n",
      "Trainable params: 72,459,137\n",
      "Non-trainable params: 0\n",
      "_________________________________________________________________\n"
     ]
    }
   ],
   "source": [
    "model.summary()"
   ]
  },
  {
   "cell_type": "code",
   "execution_count": 14,
   "id": "c207a50f-52db-4dad-a9ac-8072505f1299",
   "metadata": {},
   "outputs": [],
   "source": [
    "model.compile(optimizer='adam', loss='binary_crossentropy', metrics=['accuracy'])"
   ]
  },
  {
   "cell_type": "code",
   "execution_count": null,
   "id": "e66e03ba-36d7-4b57-b3b0-7dfb0fe551d9",
   "metadata": {},
   "outputs": [
    {
     "name": "stdout",
     "output_type": "stream",
     "text": [
      "Epoch 1/10\n",
      "78/78 [==============================] - 492s 6s/step - loss: 0.4000 - accuracy: 0.9612 - val_loss: 1.8154e-07 - val_accuracy: 1.0000\n",
      "Epoch 2/10\n",
      "78/78 [==============================] - 470s 6s/step - loss: 1.5466e-07 - accuracy: 1.0000 - val_loss: 9.0894e-08 - val_accuracy: 1.0000\n",
      "Epoch 3/10\n",
      "78/78 [==============================] - 468s 6s/step - loss: 8.7591e-08 - accuracy: 1.0000 - val_loss: 7.3799e-08 - val_accuracy: 1.0000\n",
      "Epoch 4/10\n",
      "78/78 [==============================] - 462s 6s/step - loss: 7.1835e-08 - accuracy: 1.0000 - val_loss: 6.3943e-08 - val_accuracy: 1.0000\n",
      "Epoch 5/10\n",
      "78/78 [==============================] - 464s 6s/step - loss: 6.2163e-08 - accuracy: 1.0000 - val_loss: 5.6111e-08 - val_accuracy: 1.0000\n",
      "Epoch 6/10\n",
      "78/78 [==============================] - 463s 6s/step - loss: 5.4743e-08 - accuracy: 1.0000 - val_loss: 4.9667e-08 - val_accuracy: 1.0000\n",
      "Epoch 7/10\n",
      "19/78 [======>.......................] - ETA: 6:23 - loss: 5.2769e-08 - accuracy: 1.0000"
     ]
    }
   ],
   "source": [
    "history = model.fit(X_train, y_train, validation_data=(X_test, y_test), batch_size=32, epochs=10)"
   ]
  },
  {
   "cell_type": "markdown",
   "id": "4aa8fdeb-d026-4587-97dd-8769ef59d3bc",
   "metadata": {},
   "source": [
    "* Model crashed before saving and finishing however it looks promising "
   ]
  },
  {
   "cell_type": "markdown",
   "id": "3a4ba359-a866-48ec-870b-fb53126dd03f",
   "metadata": {},
   "source": [
    "---"
   ]
  },
  {
   "cell_type": "markdown",
   "id": "24c90227-d241-4303-a064-ecc19093c45a",
   "metadata": {
    "jp-MarkdownHeadingCollapsed": true,
    "tags": []
   },
   "source": [
    "### RST Model (3D)"
   ]
  },
  {
   "cell_type": "code",
   "execution_count": 47,
   "id": "505dbcd1-d187-4413-aca1-001f39f89a46",
   "metadata": {},
   "outputs": [
    {
     "name": "stdout",
     "output_type": "stream",
     "text": [
      "(150, 33, 64, 64)\n"
     ]
    }
   ],
   "source": [
    "# check image and shape\n",
    "image = sitk.ReadImage('../brain_images/schizophrenic/cobre_07325/A00000368/Session_1/RSTpre_V01_R01_0011/RSTpre_V01_R01+CM.nii') \n",
    "img_arr = sitk.GetArrayFromImage(image)\n",
    "print(img_arr.shape)"
   ]
  },
  {
   "cell_type": "markdown",
   "id": "cf77d2fe-c008-4e13-a82e-37caf48fe8a6",
   "metadata": {
    "jp-MarkdownHeadingCollapsed": true,
    "tags": []
   },
   "source": [
    "#### Setup"
   ]
  },
  {
   "cell_type": "code",
   "execution_count": 11,
   "id": "6e8a3dd5-3d78-4414-8ba5-d3783b6e35e0",
   "metadata": {},
   "outputs": [],
   "source": [
    "# setting initial control scan path\n",
    "control_dir = '../brain_images/no_known_disorder/cobre_07325/'\n",
    "\n",
    "# setting total control patients\n",
    "patients_c = [each for each in os.listdir(control_dir)][:12]"
   ]
  },
  {
   "cell_type": "code",
   "execution_count": 12,
   "id": "5fca60fa-125f-4f7a-b500-4321fada627b",
   "metadata": {
    "tags": []
   },
   "outputs": [
    {
     "name": "stdout",
     "output_type": "stream",
     "text": [
      "10 pictures converted.\n"
     ]
    }
   ],
   "source": [
    "# list of dicitionarys for control image arrays\n",
    "control_arrays_dict = []\n",
    "for patient in patients_c:\n",
    "    for session in os.listdir(control_dir+patient):\n",
    "        for scan in os.listdir(control_dir+patient+'/'+session): \n",
    "            if \"RSTpre_V01_\" in scan:\n",
    "                image_c_dir = control_dir+patient+'/'+session+'/'+scan+'/'\n",
    "                for each in os.listdir(image_c_dir):\n",
    "                    if \"CM\" in each:\n",
    "                        try:\n",
    "                            image = sitk.ReadImage(image_c_dir+each)\n",
    "                            image_array = sitk.GetArrayFromImage(image)/255\n",
    "                            control_arrays_dict.append({'path': str(image_c_dir+each), 'scan': image_array})\n",
    "                        except:\n",
    "                            print(f'Error for file: {each}')\n",
    "print(f'{len(control_arrays_dict)} pictures converted.') "
   ]
  },
  {
   "cell_type": "code",
   "execution_count": 13,
   "id": "7740cee1-20ec-4703-a7a0-25e7fb39a69c",
   "metadata": {},
   "outputs": [],
   "source": [
    "# setting initial schizophrenic image path\n",
    "schiz_dir = '../brain_images/schizophrenic/cobre_07325/'\n",
    "\n",
    "# setting total schizophrenic patients\n",
    "patients_s = [each for each in os.listdir(schiz_dir)][:10]"
   ]
  },
  {
   "cell_type": "code",
   "execution_count": 14,
   "id": "ef520d61-eafa-425c-8d5b-78e49cdf6fbf",
   "metadata": {},
   "outputs": [
    {
     "name": "stdout",
     "output_type": "stream",
     "text": [
      "10 pictures converted.\n"
     ]
    }
   ],
   "source": [
    "# list of dicitionarys for control image arrays\n",
    "schiz_arrays_dict = []\n",
    "for patient in patients_s:\n",
    "    for session in os.listdir(schiz_dir+patient):\n",
    "        for scan in os.listdir(schiz_dir+patient+'/'+session): \n",
    "            if \"RSTpre_V01_\" in scan:\n",
    "                image_s_dir = schiz_dir+patient+'/'+session+'/'+scan+'/'\n",
    "                for each in os.listdir(image_s_dir):\n",
    "                    if \"CM\" in each:\n",
    "                        try:\n",
    "                            image = sitk.ReadImage(image_s_dir+each)\n",
    "                            image_array = sitk.GetArrayFromImage(image)/255\n",
    "                            schiz_arrays_dict.append({'path': str(image_s_dir+each), 'scan': image_array})\n",
    "                        except:\n",
    "                            print(f'Error for file: {each}')\n",
    "print(f'{len(schiz_arrays_dict)} pictures converted.') "
   ]
  },
  {
   "cell_type": "code",
   "execution_count": 15,
   "id": "27090719-593a-418b-9fca-cfa936a78f4c",
   "metadata": {},
   "outputs": [
    {
     "name": "stdout",
     "output_type": "stream",
     "text": [
      "X shape: (20, 150, 33, 64, 64)\n",
      "y shape: (20,)\n"
     ]
    }
   ],
   "source": [
    "# combining control and schizophrenic scans\n",
    "X = [each['scan'] for each in control_arrays_dict] + [each['scan'] for each in schiz_arrays_dict]\n",
    "\n",
    "# convert to array and checking for shape of arrays\n",
    "X_arr = np.array(X, dtype=object)\n",
    "print(f'X shape: {X_arr.shape}')\n",
    "\n",
    "# setting control scans to 0 and schizophrenic scans to 1\n",
    "y = [0] * len(control_arrays_dict) + [1] * len(schiz_arrays_dict)\n",
    "\n",
    "# convert to array and check shape\n",
    "y = np.array(y)\n",
    "print(f'y shape: {y.shape}')"
   ]
  },
  {
   "cell_type": "markdown",
   "id": "f14d2335-0d95-4cf0-ab73-f1c56153e80e",
   "metadata": {
    "jp-MarkdownHeadingCollapsed": true,
    "tags": []
   },
   "source": [
    "#### Train test split"
   ]
  },
  {
   "cell_type": "code",
   "execution_count": 16,
   "id": "e301822f-1bca-434d-9cdc-069cd145699c",
   "metadata": {},
   "outputs": [],
   "source": [
    "# train test split\n",
    "X_train, X_test, y_train, y_test = train_test_split(X, y, random_state=24, stratify=y)"
   ]
  },
  {
   "cell_type": "code",
   "execution_count": 21,
   "id": "dabd615a-fee7-4e61-bbb5-e0d7ea128943",
   "metadata": {},
   "outputs": [],
   "source": [
    "# reshape to prep for cnn\n",
    "X_train = np.array(X_train).reshape(15, 64, 64, 150, 33)"
   ]
  },
  {
   "cell_type": "code",
   "execution_count": 22,
   "id": "3930d3ed-42de-4c6d-888b-08c0decc1b4f",
   "metadata": {},
   "outputs": [
    {
     "data": {
      "text/plain": [
       "(15, 64, 64, 150, 33)"
      ]
     },
     "execution_count": 22,
     "metadata": {},
     "output_type": "execute_result"
    }
   ],
   "source": [
    "# checking shape\n",
    "X_train.shape"
   ]
  },
  {
   "cell_type": "code",
   "execution_count": 23,
   "id": "6f7a221d-0e3e-4f77-b9ed-161ff112c0e6",
   "metadata": {},
   "outputs": [],
   "source": [
    "# reshape to prep for cnn\n",
    "X_test = np.array(X_test).reshape(5, 64, 64, 150, 33)"
   ]
  },
  {
   "cell_type": "code",
   "execution_count": 24,
   "id": "927f45f7-a6c1-4200-b0f8-51d5bf6977aa",
   "metadata": {},
   "outputs": [
    {
     "data": {
      "text/plain": [
       "(5, 64, 64, 150, 33)"
      ]
     },
     "execution_count": 24,
     "metadata": {},
     "output_type": "execute_result"
    }
   ],
   "source": [
    "# checking shape\n",
    "X_test.shape"
   ]
  },
  {
   "cell_type": "markdown",
   "id": "d11dc998-5330-43ee-98bc-4f584a19f7bb",
   "metadata": {},
   "source": [
    "#### Modeling (3d)"
   ]
  },
  {
   "cell_type": "code",
   "execution_count": 27,
   "id": "aed92d32-3405-4bba-bf77-01037b7c58f1",
   "metadata": {},
   "outputs": [],
   "source": [
    "model = Sequential()\n",
    "\n",
    "# conv & pool\n",
    "model.add(Conv3D(filters=64, kernel_size=(3,3,3), activation='relu', input_shape=X_train[0].shape))\n",
    "model.add(MaxPooling3D(pool_size=(2,2,2)))\n",
    "\n",
    "# conv & pool\n",
    "model.add(Conv3D(filters=128, kernel_size=(3,3,3), activation='relu'))\n",
    "model.add(MaxPooling3D(pool_size=(2,2,2)))\n",
    "\n",
    "# flatten & finish\n",
    "model.add(Flatten())\n",
    "model.add(Dense(units=64, activation='relu'))\n",
    "model.add(Dense(units=1, activation='sigmoid')) # binary classification "
   ]
  },
  {
   "cell_type": "code",
   "execution_count": 28,
   "id": "2ef3aa74-2499-409e-bf22-987b150a07aa",
   "metadata": {},
   "outputs": [
    {
     "name": "stdout",
     "output_type": "stream",
     "text": [
      "Model: \"sequential_2\"\n",
      "_________________________________________________________________\n",
      " Layer (type)                Output Shape              Param #   \n",
      "=================================================================\n",
      " conv3d_3 (Conv3D)           (None, 62, 62, 148, 64)   57088     \n",
      "                                                                 \n",
      " max_pooling3d_1 (MaxPooling  (None, 31, 31, 74, 64)   0         \n",
      " 3D)                                                             \n",
      "                                                                 \n",
      " conv3d_4 (Conv3D)           (None, 29, 29, 72, 128)   221312    \n",
      "                                                                 \n",
      " max_pooling3d_2 (MaxPooling  (None, 14, 14, 36, 128)  0         \n",
      " 3D)                                                             \n",
      "                                                                 \n",
      " flatten (Flatten)           (None, 903168)            0         \n",
      "                                                                 \n",
      " dense (Dense)               (None, 64)                57802816  \n",
      "                                                                 \n",
      " dense_1 (Dense)             (None, 1)                 65        \n",
      "                                                                 \n",
      "=================================================================\n",
      "Total params: 58,081,281\n",
      "Trainable params: 58,081,281\n",
      "Non-trainable params: 0\n",
      "_________________________________________________________________\n"
     ]
    }
   ],
   "source": [
    "model.summary()"
   ]
  },
  {
   "cell_type": "code",
   "execution_count": 29,
   "id": "81032b41-e470-4bf3-9767-4b71177e8d79",
   "metadata": {},
   "outputs": [],
   "source": [
    "model.compile(optimizer='adam', loss='binary_crossentropy', metrics=['accuracy'])"
   ]
  },
  {
   "cell_type": "code",
   "execution_count": 30,
   "id": "b27d15f9-42f7-43a9-8b43-e0cf575771d5",
   "metadata": {},
   "outputs": [
    {
     "name": "stdout",
     "output_type": "stream",
     "text": [
      "Epoch 1/10\n",
      "1/1 [==============================] - 103s 103s/step - loss: 3.6765 - accuracy: 0.6667 - val_loss: 42571.7773 - val_accuracy: 0.6000\n",
      "Epoch 2/10\n",
      "1/1 [==============================] - 80s 80s/step - loss: 63191.0391 - accuracy: 0.4667 - val_loss: 3308.0867 - val_accuracy: 0.6000\n",
      "Epoch 3/10\n",
      "1/1 [==============================] - 87s 87s/step - loss: 4927.9551 - accuracy: 0.4667 - val_loss: 2815.7751 - val_accuracy: 0.4000\n",
      "Epoch 4/10\n",
      "1/1 [==============================] - 76s 76s/step - loss: 2341.0791 - accuracy: 0.5333 - val_loss: 370.0012 - val_accuracy: 0.4000\n",
      "Epoch 5/10\n",
      "1/1 [==============================] - 81s 81s/step - loss: 307.5126 - accuracy: 0.5333 - val_loss: 1499.0067 - val_accuracy: 0.6000\n",
      "Epoch 6/10\n",
      "1/1 [==============================] - 74s 74s/step - loss: 1985.2516 - accuracy: 0.4667 - val_loss: 735.1409 - val_accuracy: 0.6000\n",
      "Epoch 7/10\n",
      "1/1 [==============================] - 80s 80s/step - loss: 929.3458 - accuracy: 0.4667 - val_loss: 116.1030 - val_accuracy: 0.4000\n",
      "Epoch 8/10\n",
      "1/1 [==============================] - 76s 76s/step - loss: 89.6305 - accuracy: 0.5333 - val_loss: 115.8694 - val_accuracy: 0.4000\n",
      "Epoch 9/10\n",
      "1/1 [==============================] - 77s 77s/step - loss: 91.8428 - accuracy: 0.5333 - val_loss: 73.0750 - val_accuracy: 0.6000\n",
      "Epoch 10/10\n",
      "1/1 [==============================] - 76s 76s/step - loss: 85.0094 - accuracy: 0.4667 - val_loss: 47.6672 - val_accuracy: 0.6000\n"
     ]
    }
   ],
   "source": [
    "history = model.fit(X_train, y_train, validation_data=(X_test, y_test), batch_size=32, epochs=10)"
   ]
  },
  {
   "cell_type": "markdown",
   "id": "50f928dd-ec16-4d61-acf6-7d1191c09e71",
   "metadata": {},
   "source": [
    "* Sample size too small to make inferences\n",
    "* Computationally intensive for setting up arrays not for model"
   ]
  },
  {
   "cell_type": "markdown",
   "id": "f84ab280-085b-4833-b526-34eec1d5ed9a",
   "metadata": {},
   "source": [
    "---"
   ]
  },
  {
   "cell_type": "markdown",
   "id": "b0ae6fad-5a07-4e25-8254-632f92dd69b8",
   "metadata": {
    "jp-MarkdownHeadingCollapsed": true,
    "tags": []
   },
   "source": [
    "### Unfinished setup for custom 3D nii files"
   ]
  },
  {
   "cell_type": "code",
   "execution_count": 108,
   "id": "fe3ddb3f-06e9-4cef-9987-954d7040c23f",
   "metadata": {},
   "outputs": [
    {
     "data": {
      "text/plain": [
       "(192, 192, 120)"
      ]
     },
     "execution_count": 108,
     "metadata": {},
     "output_type": "execute_result"
    }
   ],
   "source": [
    "image = nib.load('../brain_images/no_known_disorder/cobre_07325/A00000300/Session_2/t2_tse_tra_192_0005/t2_tse_tra_192_0005_t2_tse_tra_192_0_5.nii')\n",
    "image.shape"
   ]
  },
  {
   "cell_type": "code",
   "execution_count": 97,
   "id": "d46a3824-6285-4971-a01b-346ca02458e4",
   "metadata": {},
   "outputs": [],
   "source": [
    "image_array = np.asarray(image)"
   ]
  },
  {
   "cell_type": "code",
   "execution_count": 98,
   "id": "c7b77a0e-aa89-45e0-81ad-6f46e7f0cab2",
   "metadata": {},
   "outputs": [],
   "source": [
    "image_array = np.rot90(image_array)"
   ]
  },
  {
   "cell_type": "code",
   "execution_count": 131,
   "id": "d9a0310d-48ac-4362-aa06-c097f17ab3ef",
   "metadata": {},
   "outputs": [
    {
     "name": "stdout",
     "output_type": "stream",
     "text": [
      "(120, 192, 192)\n"
     ]
    }
   ],
   "source": [
    "image = sitk.ReadImage('../brain_images/no_known_disorder/cobre_07325/A00000300/Session_2/t2_tse_tra_192_0005/t2_tse_tra_192_0005_t2_tse_tra_192_0_5.nii') \n",
    "img_arr = sitk.GetArrayFromImage(image)\n",
    "img_arr = np.flip(img_arr)\n",
    "print(img_arr.shape)"
   ]
  },
  {
   "cell_type": "code",
   "execution_count": 111,
   "id": "74c612b8-d052-4ce5-9d10-968a2f545279",
   "metadata": {},
   "outputs": [
    {
     "data": {
      "text/plain": [
       "(192, 192, 120)"
      ]
     },
     "execution_count": 111,
     "metadata": {},
     "output_type": "execute_result"
    }
   ],
   "source": [
    "image_rot_arr.shape"
   ]
  },
  {
   "cell_type": "code",
   "execution_count": 17,
   "id": "4b9ca206-4f13-402b-85bd-c39523998b5d",
   "metadata": {},
   "outputs": [],
   "source": [
    "from nipype.interfaces.dcm2nii import Dcm2niix"
   ]
  },
  {
   "cell_type": "code",
   "execution_count": 18,
   "id": "7decbff6-4ddc-4f3b-8896-e9be4c40e416",
   "metadata": {
    "collapsed": true,
    "jupyter": {
     "outputs_hidden": true
    },
    "tags": []
   },
   "outputs": [
    {
     "name": "stdout",
     "output_type": "stream",
     "text": [
      "220226-02:22:40,231 nipype.interface INFO:\n",
      "\t [WinError 10038] An operation was attempted on something that is not a socket\n",
      "Error for file: SerieMR-0004-0120-1.dcm\n",
      "220226-02:22:40,254 nipype.interface INFO:\n",
      "\t [WinError 10038] An operation was attempted on something that is not a socket\n",
      "Error for file: SerieMR-0004-0120-1.dcm\n",
      "220226-02:22:40,274 nipype.interface INFO:\n",
      "\t [WinError 10038] An operation was attempted on something that is not a socket\n",
      "Error for file: SerieMR-0004-0120-1.dcm\n",
      "220226-02:22:40,298 nipype.interface INFO:\n",
      "\t [WinError 10038] An operation was attempted on something that is not a socket\n",
      "Error for file: SerieMR-0004-0120-1.dcm\n",
      "220226-02:22:40,324 nipype.interface INFO:\n",
      "\t [WinError 10038] An operation was attempted on something that is not a socket\n",
      "Error for file: SerieMR-0004-0120-1.dcm\n",
      "220226-02:22:40,362 nipype.interface INFO:\n",
      "\t [WinError 10038] An operation was attempted on something that is not a socket\n",
      "Error for file: SerieMR-0004-0120-1.dcm\n",
      "220226-02:22:40,407 nipype.interface INFO:\n",
      "\t [WinError 10038] An operation was attempted on something that is not a socket\n",
      "Error for file: SerieMR-0004-0120-1.dcm\n",
      "220226-02:22:40,434 nipype.interface INFO:\n",
      "\t [WinError 10038] An operation was attempted on something that is not a socket\n",
      "Error for file: SerieMR-0004-0120-1.dcm\n",
      "220226-02:22:40,477 nipype.interface INFO:\n",
      "\t [WinError 10038] An operation was attempted on something that is not a socket\n",
      "Error for file: SerieMR-0004-0120-1.dcm\n",
      "220226-02:22:40,507 nipype.interface INFO:\n",
      "\t [WinError 10038] An operation was attempted on something that is not a socket\n",
      "Error for file: SerieMR-0004-0120-1.dcm\n",
      "220226-02:22:40,546 nipype.interface INFO:\n",
      "\t [WinError 10038] An operation was attempted on something that is not a socket\n",
      "Error for file: SerieMR-0004-0120-1.dcm\n",
      "220226-02:22:40,602 nipype.interface INFO:\n",
      "\t [WinError 10038] An operation was attempted on something that is not a socket\n",
      "Error for file: SerieMR-0004-0120-1.dcm\n",
      "220226-02:22:40,696 nipype.interface INFO:\n",
      "\t [WinError 10038] An operation was attempted on something that is not a socket\n",
      "Error for file: SerieMR-0004-0120-1.dcm\n",
      "220226-02:22:40,725 nipype.interface INFO:\n",
      "\t [WinError 10038] An operation was attempted on something that is not a socket\n",
      "Error for file: SerieMR-0004-0120-1.dcm\n",
      "220226-02:22:40,802 nipype.interface INFO:\n",
      "\t [WinError 10038] An operation was attempted on something that is not a socket\n",
      "Error for file: SerieMR-0004-0120-1.dcm\n",
      "220226-02:22:40,928 nipype.interface INFO:\n",
      "\t [WinError 10038] An operation was attempted on something that is not a socket\n",
      "Error for file: SerieMR-0004-0120-1.dcm\n",
      "220226-02:22:40,971 nipype.interface INFO:\n",
      "\t [WinError 10038] An operation was attempted on something that is not a socket\n",
      "Error for file: SerieMR-0004-0120-1.dcm\n",
      "220226-02:22:41,32 nipype.interface INFO:\n",
      "\t [WinError 10038] An operation was attempted on something that is not a socket\n",
      "Error for file: SerieMR-0004-0120-1.dcm\n",
      "220226-02:22:41,127 nipype.interface INFO:\n",
      "\t [WinError 10038] An operation was attempted on something that is not a socket\n",
      "Error for file: SerieMR-0004-0120-1.dcm\n",
      "220226-02:22:41,161 nipype.interface INFO:\n",
      "\t [WinError 10038] An operation was attempted on something that is not a socket\n",
      "Error for file: SerieMR-0004-0120-1.dcm\n",
      "220226-02:22:41,202 nipype.interface INFO:\n",
      "\t [WinError 10038] An operation was attempted on something that is not a socket\n",
      "Error for file: SerieMR-0004-0120-1.dcm\n",
      "220226-02:22:41,306 nipype.interface INFO:\n",
      "\t [WinError 10038] An operation was attempted on something that is not a socket\n",
      "Error for file: SerieMR-0004-0120-1.dcm\n",
      "220226-02:22:41,379 nipype.interface INFO:\n",
      "\t [WinError 10038] An operation was attempted on something that is not a socket\n",
      "Error for file: SerieMR-0004-0120-1.dcm\n",
      "220226-02:22:41,453 nipype.interface INFO:\n",
      "\t [WinError 10038] An operation was attempted on something that is not a socket\n",
      "Error for file: SerieMR-0004-0120-1.dcm\n",
      "220226-02:22:41,496 nipype.interface INFO:\n",
      "\t [WinError 10038] An operation was attempted on something that is not a socket\n",
      "Error for file: SerieMR-0004-0120-1.dcm\n",
      "220226-02:22:41,526 nipype.interface INFO:\n",
      "\t [WinError 10038] An operation was attempted on something that is not a socket\n",
      "Error for file: SerieMR-0004-0120-1.dcm\n",
      "220226-02:22:41,554 nipype.interface INFO:\n",
      "\t [WinError 10038] An operation was attempted on something that is not a socket\n",
      "Error for file: SerieMR-0004-0120-1.dcm\n",
      "220226-02:22:41,619 nipype.interface INFO:\n",
      "\t [WinError 10038] An operation was attempted on something that is not a socket\n",
      "Error for file: SerieMR-0004-0120-1.dcm\n",
      "220226-02:22:41,741 nipype.interface INFO:\n",
      "\t [WinError 10038] An operation was attempted on something that is not a socket\n",
      "Error for file: SerieMR-0004-0120-1.dcm\n",
      "220226-02:22:41,769 nipype.interface INFO:\n",
      "\t [WinError 10038] An operation was attempted on something that is not a socket\n",
      "Error for file: SerieMR-0004-0120-1.dcm\n",
      "220226-02:22:41,805 nipype.interface INFO:\n",
      "\t [WinError 10038] An operation was attempted on something that is not a socket\n",
      "Error for file: SerieMR-0004-0120-1.dcm\n",
      "220226-02:22:41,856 nipype.interface INFO:\n",
      "\t [WinError 10038] An operation was attempted on something that is not a socket\n",
      "Error for file: SerieMR-0004-0120-1.dcm\n",
      "220226-02:22:41,885 nipype.interface INFO:\n",
      "\t [WinError 10038] An operation was attempted on something that is not a socket\n",
      "Error for file: SerieMR-0004-0120-1.dcm\n",
      "220226-02:22:41,958 nipype.interface INFO:\n",
      "\t [WinError 10038] An operation was attempted on something that is not a socket\n",
      "Error for file: SerieMR-0004-0120-1.dcm\n",
      "220226-02:22:41,992 nipype.interface INFO:\n",
      "\t [WinError 10038] An operation was attempted on something that is not a socket\n",
      "Error for file: SerieMR-0004-0120-1.dcm\n",
      "220226-02:22:42,47 nipype.interface INFO:\n",
      "\t [WinError 10038] An operation was attempted on something that is not a socket\n",
      "Error for file: SerieMR-0004-0120-1.dcm\n",
      "220226-02:22:42,84 nipype.interface INFO:\n",
      "\t [WinError 10038] An operation was attempted on something that is not a socket\n",
      "Error for file: SerieMR-0004-0120-1.dcm\n",
      "220226-02:22:42,115 nipype.interface INFO:\n",
      "\t [WinError 10038] An operation was attempted on something that is not a socket\n",
      "Error for file: SerieMR-0004-0120-1.dcm\n",
      "220226-02:22:42,148 nipype.interface INFO:\n",
      "\t [WinError 10038] An operation was attempted on something that is not a socket\n",
      "Error for file: SerieMR-0004-0120-1.dcm\n",
      "220226-02:22:42,194 nipype.interface INFO:\n",
      "\t [WinError 10038] An operation was attempted on something that is not a socket\n",
      "Error for file: SerieMR-0004-0120-1.dcm\n",
      "220226-02:22:42,247 nipype.interface INFO:\n",
      "\t [WinError 10038] An operation was attempted on something that is not a socket\n",
      "Error for file: SerieMR-0004-0120-1.dcm\n",
      "220226-02:22:42,329 nipype.interface INFO:\n",
      "\t [WinError 10038] An operation was attempted on something that is not a socket\n",
      "Error for file: SerieMR-0004-0120-1.dcm\n",
      "220226-02:22:42,448 nipype.interface INFO:\n",
      "\t [WinError 10038] An operation was attempted on something that is not a socket\n",
      "Error for file: SerieMR-0004-0120-1.dcm\n",
      "220226-02:22:42,599 nipype.interface INFO:\n",
      "\t [WinError 10038] An operation was attempted on something that is not a socket\n",
      "Error for file: SerieMR-0004-0120-1.dcm\n",
      "220226-02:22:42,674 nipype.interface INFO:\n",
      "\t [WinError 10038] An operation was attempted on something that is not a socket\n",
      "Error for file: SerieMR-0004-0120-1.dcm\n",
      "220226-02:22:42,794 nipype.interface INFO:\n",
      "\t [WinError 10038] An operation was attempted on something that is not a socket\n",
      "Error for file: SerieMR-0004-0120-1.dcm\n",
      "220226-02:22:42,914 nipype.interface INFO:\n",
      "\t [WinError 10038] An operation was attempted on something that is not a socket\n",
      "Error for file: SerieMR-0004-0120-1.dcm\n",
      "220226-02:22:42,969 nipype.interface INFO:\n",
      "\t [WinError 10038] An operation was attempted on something that is not a socket\n",
      "Error for file: SerieMR-0004-0120-1.dcm\n",
      "220226-02:22:43,26 nipype.interface INFO:\n",
      "\t [WinError 10038] An operation was attempted on something that is not a socket\n",
      "Error for file: SerieMR-0004-0120-1.dcm\n",
      "220226-02:22:43,64 nipype.interface INFO:\n",
      "\t [WinError 10038] An operation was attempted on something that is not a socket\n",
      "Error for file: SerieMR-0004-0120-1.dcm\n",
      "220226-02:22:43,161 nipype.interface INFO:\n",
      "\t [WinError 10038] An operation was attempted on something that is not a socket\n",
      "Error for file: SerieMR-0004-0120-1.dcm\n",
      "220226-02:22:43,238 nipype.interface INFO:\n",
      "\t [WinError 10038] An operation was attempted on something that is not a socket\n",
      "Error for file: SerieMR-0004-0120-1.dcm\n",
      "220226-02:22:43,276 nipype.interface INFO:\n",
      "\t [WinError 10038] An operation was attempted on something that is not a socket\n",
      "Error for file: SerieMR-0004-0120-1.dcm\n",
      "220226-02:22:43,348 nipype.interface INFO:\n",
      "\t [WinError 10038] An operation was attempted on something that is not a socket\n",
      "Error for file: SerieMR-0004-0120-1.dcm\n",
      "220226-02:22:43,379 nipype.interface INFO:\n",
      "\t [WinError 10038] An operation was attempted on something that is not a socket\n",
      "Error for file: SerieMR-0004-0120-1.dcm\n",
      "220226-02:22:43,459 nipype.interface INFO:\n",
      "\t [WinError 10038] An operation was attempted on something that is not a socket\n",
      "Error for file: SerieMR-0004-0120-1.dcm\n",
      "220226-02:22:43,506 nipype.interface INFO:\n",
      "\t [WinError 10038] An operation was attempted on something that is not a socket\n",
      "Error for file: SerieMR-0004-0120-1.dcm\n",
      "220226-02:22:43,686 nipype.interface INFO:\n",
      "\t [WinError 10038] An operation was attempted on something that is not a socket\n",
      "Error for file: SerieMR-0004-0120-1.dcm\n",
      "220226-02:22:43,756 nipype.interface INFO:\n",
      "\t [WinError 10038] An operation was attempted on something that is not a socket\n",
      "Error for file: SerieMR-0004-0120-1.dcm\n",
      "220226-02:22:43,829 nipype.interface INFO:\n",
      "\t [WinError 10038] An operation was attempted on something that is not a socket\n",
      "Error for file: SerieMR-0004-0120-1.dcm\n",
      "220226-02:22:43,971 nipype.interface INFO:\n",
      "\t [WinError 10038] An operation was attempted on something that is not a socket\n",
      "Error for file: SerieMR-0004-0120-1.dcm\n",
      "220226-02:22:44,0 nipype.interface INFO:\n",
      "\t [WinError 10038] An operation was attempted on something that is not a socket\n",
      "Error for file: SerieMR-0004-0120-1.dcm\n",
      "220226-02:22:44,31 nipype.interface INFO:\n",
      "\t [WinError 10038] An operation was attempted on something that is not a socket\n",
      "Error for file: SerieMR-0004-0120-1.dcm\n",
      "220226-02:22:44,79 nipype.interface INFO:\n",
      "\t [WinError 10038] An operation was attempted on something that is not a socket\n",
      "Error for file: SerieMR-0004-0120-1.dcm\n",
      "220226-02:22:44,124 nipype.interface INFO:\n",
      "\t [WinError 10038] An operation was attempted on something that is not a socket\n",
      "Error for file: SerieMR-0004-0120-1.dcm\n",
      "220226-02:22:44,164 nipype.interface INFO:\n",
      "\t [WinError 10038] An operation was attempted on something that is not a socket\n",
      "Error for file: SerieMR-0004-0120-1.dcm\n",
      "220226-02:22:44,237 nipype.interface INFO:\n",
      "\t [WinError 10038] An operation was attempted on something that is not a socket\n",
      "Error for file: SerieMR-0004-0120-1.dcm\n"
     ]
    }
   ],
   "source": [
    "# list of dictionaries for all schizophrenic image arrays\n",
    "schiz_arrays_dict = []\n",
    "for patient in patients_s:\n",
    "    for session in os.listdir(schiz_dir+patient):\n",
    "        for scan in os.listdir(schiz_dir+patient+'/'+session): \n",
    "            if \"t2_tse_tra_192_0\" in scan:\n",
    "                # print(scan)\n",
    "                try:\n",
    "                    converter = Dcm2niix()\n",
    "                    converter.inputs.source_dir = schiz_dir+patient+'/'+session+'/'+scan+'/'\n",
    "                    converter.inputs.compress = 'n'\n",
    "                    converter.inputs.output_dir = schiz_dir+patient+'/'+session+'/'+scan+'/'\n",
    "                    converter.run()\n",
    "                except:\n",
    "                    print(f'Error for file: {each}')"
   ]
  }
 ],
 "metadata": {
  "kernelspec": {
   "display_name": "Python 3 (ipykernel)",
   "language": "python",
   "name": "python3"
  },
  "language_info": {
   "codemirror_mode": {
    "name": "ipython",
    "version": 3
   },
   "file_extension": ".py",
   "mimetype": "text/x-python",
   "name": "python",
   "nbconvert_exporter": "python",
   "pygments_lexer": "ipython3",
   "version": "3.9.7"
  }
 },
 "nbformat": 4,
 "nbformat_minor": 5
}
